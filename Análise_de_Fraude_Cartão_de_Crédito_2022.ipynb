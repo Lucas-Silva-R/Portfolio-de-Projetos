{
  "nbformat": 4,
  "nbformat_minor": 0,
  "metadata": {
    "colab": {
      "name": "Análise de Fraude Cartão de Crédito 2022.ipynb",
      "provenance": [],
      "collapsed_sections": [],
      "authorship_tag": "ABX9TyNakESqMYro9lYgavVZLzus",
      "include_colab_link": true
    },
    "kernelspec": {
      "name": "python3",
      "display_name": "Python 3"
    },
    "language_info": {
      "name": "python"
    }
  },
  "cells": [
    {
      "cell_type": "markdown",
      "metadata": {
        "id": "view-in-github",
        "colab_type": "text"
      },
      "source": [
        "<a href=\"https://colab.research.google.com/github/Lucas-Silva-R/Portfolio-de-Projetos/blob/main/An%C3%A1lise_de_Fraude_Cart%C3%A3o_de_Cr%C3%A9dito_2022.ipynb\" target=\"_parent\"><img src=\"https://colab.research.google.com/assets/colab-badge.svg\" alt=\"Open In Colab\"/></a>"
      ]
    },
    {
      "cell_type": "markdown",
      "source": [
        "---\n",
        "#**Projeto de Detecção de fraudes em cartão de crédito**\n",
        "\n",
        "por *[Lucas Ribeiro da Silva](https://github.com/Lucas-Silva-R/Portfolio-de-Projetos)*\n",
        "\n",
        "---"
      ],
      "metadata": {
        "id": "c7otP6a67j3T"
      }
    },
    {
      "cell_type": "markdown",
      "source": [
        "<img src='https://img.freepik.com/free-vector/colored-flat-hacker-runs-away-composition-man-steal-credit-card-runs-vector-illustration_1284-30699.jpg?w=740&t=st=1652015915~exp=1652016515~hmac=baa74a41f6411445e49fd760889631867dd11825f221cb78cc57e5c8795b3518' >"
      ],
      "metadata": {
        "id": "hcFX5sWYy2Q2"
      }
    },
    {
      "cell_type": "markdown",
      "source": [
        "##1) Contexto\n",
        "\n",
        "A fraude de cartão de crédito consiste em [uma das formas de roubo de identidade na qual o criminoso toma posse das informações do cartão de credito de outra pessoa com a intenção de realizar compras com os recursos da vítima](https://www.law.cornell.edu/wex/credit_card_fraud) (Legal Information Institute, Cornwell University).\n",
        "\n",
        "Estima-se que durante o percurso da próxima decada, [a fraude de cartão irá custar à industria global um total de 408,5 bilhões de dólares. Para colocar em perspectiva, em 2030 espera-se que o volume de transações atinga um total de 79,14 trilhão de dólares e que, desse total, 49,32 bilhões sejam perdidos devido a fraudes](https://www.paymentsdive.com/news/card-industry-faces-400b-in-fraud-losses-over-next-decade-nilson-says/611521/) (Mullen, 2021).\n",
        "\n",
        "O Brasil também é um país que sofre bastante com problemas de fraude de cartão de crédito. [Durante o primeiro semestre de 2021 foi reportado um crescimento de mais de 30% no número de tentativas de fraude. De 182 milhões de transações ocorridas, houveram 2,6 milhões de tentativas de fraude (~1,5%), valor fortemente associado ao momento de pandemia e aumento de comprar feitas online](https://www.infomoney.com.br/minhas-financas/brasil-teve-alta-de-quase-33-nas-tentativas-de-fraude-com-cartao-de-credito-no-1-semestre-mostra-estudo/) (Sutto, 2021). \n",
        "\n",
        "O receio de ter suas informações de compra roubadas é algo que afeta qualquer cidadão no mundo e é bem forte no Brasil, [onde 83% dos cidadão demonstra preocupação de terem seus cartões de crédito fraudados](https://epocanegocios.globo.com/Empresa/noticia/2021/10/fraude-no-cartao-e-o-maior-medo-dos-brasileiros.html) (Gil, 2021), algo que é compreensível considerando que [o Brasil é também um dos países líderes em \"vazamento de dados de cartões\" de modo que 7 das 10 instituições financeiras líderes neste ranking são brasileiras](https://extra.globo.com/economia-e-financas/brasil-campeao-no-vazamento-de-cartoes-com-454-dos-casos-no-mundo-24861963.html) (Cardoso, 2021). \n",
        "\n",
        "Com o progressivo crescimento do número de casos de fraude de cartão de crédito e o risco que representam para os usuários, governo e instituições financeiras, diversas soluções tecnológicas foram sendo desenvolvidas para reduzir o número fraudes, principalmente no campo de Machine Learning de modo que [diversos métodos de detecção foram sendo desenvolvidos](https://seon.io/resources/credit-card-fraud-detection/#h-credit-card-fraud-detection-methods) (Jendruszak, 2021) inclusive [várias soluções diferentes só no campo de Machine Learning](https://spd.group/machine-learning/credit-card-fraud-detection/) (Chuprina & Kovalenko, 2022).\n",
        "\n",
        "Considerando este crescente e recorrente problema, e inspirado nas soluções em Machine Learning desenvolvidas para solucioná-lo, decidi criar um projeto focado em desenvolver um modelo de Machine Learning capaz de prever a ocorrência de fraudes de cartão de crédito."
      ],
      "metadata": {
        "id": "iJcqNYAj7o1u"
      }
    },
    {
      "cell_type": "markdown",
      "source": [
        "---\n",
        "\n",
        "##2) Fonte de Dados, Dicionário de variáveis e Importação dos pacotes e base de dados"
      ],
      "metadata": {
        "id": "teQmI04a7tLe"
      }
    },
    {
      "cell_type": "markdown",
      "source": [
        "###Fonte de dados\n",
        "\n",
        "Os dados utilizados neste projeto foram obtidos por meio de um dataset de livre acesso públicado no \"Kaggle\" - uma comunidade online de estudantes de ciências de dados e machine learning. A base de dados contém informações de usuários europeus que fizeram transações de cartão de crédito durante o mês de Setembro de 2013. Ao todo, estão presentes informações de 2 dias de transações."
      ],
      "metadata": {
        "id": "6tj2GBsN3ukw"
      }
    },
    {
      "cell_type": "markdown",
      "source": [
        "###Dicionário de variáveis\n",
        "* `Time` - Representa a diferença em segundos de cada uma das transações realizadas comparadas ao momento de realização da primeira transação registrada na base.\n",
        "* `Amount` - Consiste no valor transacionado em cada operação de cartão de crédito. \n",
        "* `Class` - Variável binária que representa a ocorrência ou não de uma fraude. 0 significa que não houve fraude, 1 significa que houve fraude.\n",
        "\n",
        "Os demais campo na base (`V1` até `V28`) contêm variáveis numéricas obtidas através de um processo chamado \"Análise de Componentes Principais\" (Principal Component Analysis - PCA). Em síntese, o PCA é um método de machine learning não-supervisionado voltado para redução de dimensionalidade dos dados. O método busca estimar dois vetores: a) o eixo principal - que representa a distância máxima e mínima dos pontos; b) extensão do vetor - que representa a distribuição/variância destes dados. \n",
        "\n",
        "A redução de dimensionalidade do PCA consiste em [\"reduzir um ou mais dos menor componentes principais, de modo a criar uma projeção de baixa dimensão dos dados ao mesmo tempo que preserva o máximo da variância destes dados\"](https://jakevdp.github.io/PythonDataScienceHandbook/05.09-principal-component-analysis.html) (VanderPlas, 2016)\n",
        "\n",
        "Isto foi feito devido ao fato de conterem informações sensíveis de usuários, o que é uma limitação do projeto, pois restringe o conhecimento e contexto mais extenso de cada um destes 28 campos."
      ],
      "metadata": {
        "id": "zBDBLB78-V9j"
      }
    },
    {
      "cell_type": "markdown",
      "source": [
        "###Importação dos pacotes e base de dados\n",
        "\n",
        "A seguir serão feitas as importações dos pacotes necessários para:\n",
        "* Importar a base de dados\n",
        "* Criar as visões gráficas dos resultados\n",
        "* Processar o modelo de Machine Learning\n",
        "* Calcular a qualidade e fit do modelo desenvolvido"
      ],
      "metadata": {
        "id": "WidKHBIjD1E5"
      }
    },
    {
      "cell_type": "code",
      "source": [
        "#importando os pacotes básicos\n",
        "import pandas as pd\n",
        "import matplotlib.pyplot as plt\n",
        "import seaborn as sns\n",
        "import numpy as np\n",
        "\n",
        "#importando o pacote para separar os dados\n",
        "from sklearn.model_selection import train_test_split\n",
        "\n",
        "#importando os pacotes para mensurar qualidade e fit do modelo\n",
        "from sklearn.metrics import r2_score, mean_absolute_error, mean_squared_error\n",
        "from sklearn.metrics import classification_report, confusion_matrix"
      ],
      "metadata": {
        "id": "3jrKAq3n8OfD"
      },
      "execution_count": 1,
      "outputs": []
    },
    {
      "cell_type": "code",
      "source": [
        "#importando a base de dados\n",
        "path = \"https://www.dropbox.com/s/b44o3t3ehmnx2b7/creditcard.csv?dl=1\"\n",
        "df = pd.read_csv(path)"
      ],
      "metadata": {
        "id": "o4bWryNngSbK"
      },
      "execution_count": 2,
      "outputs": []
    },
    {
      "cell_type": "markdown",
      "source": [
        "---\n",
        "\n",
        "##3) Análise Exploratória dos Dados\n",
        "\n",
        "A seguir serão realizadas uma análise exploratória inicial dos dados importados. Esta etapa é essêncial para destacar informações básicas da fonte de dados como: \n",
        "* Tamanho\n",
        "* Informações dos atributos (nome e tipo)\n",
        "* Presença de valores nulos\n",
        "* Informações estatísticas básicas (média, desvio padrão)\n",
        "* Balanceamento dos dados\n",
        "* Presença de outliers"
      ],
      "metadata": {
        "id": "Xgsw66X77z9m"
      }
    },
    {
      "cell_type": "markdown",
      "source": [
        "###3.1 Tamanho do dataframe\n",
        "\n",
        "Abaixo será examinado o tamanho do dataframe (nº de entradas e nº de atributos). Isso esclarece a quantidade de dados disponíveis, algo bastante importante para qualquer modelo de Machine Learning, pois quanto mais dados disponíveis, mais informações estarão presentes para dar robustes ao modelo."
      ],
      "metadata": {
        "id": "1sd0_CYkH_AY"
      }
    },
    {
      "cell_type": "code",
      "execution_count": 3,
      "metadata": {
        "colab": {
          "base_uri": "https://localhost:8080/",
          "height": 353
        },
        "id": "N889es4L1s6K",
        "outputId": "8ed62bf7-bb49-4dfb-a4f0-dbdb96913eaf"
      },
      "outputs": [
        {
          "output_type": "stream",
          "name": "stdout",
          "text": [
            "Detalhamento do DataFrame\n",
            "Entradas do DataFrame: \t284807\n",
            "Atributos do DataFrame: \t31\n"
          ]
        },
        {
          "output_type": "execute_result",
          "data": {
            "text/plain": [
              "   Time        V1        V2        V3        V4        V5        V6        V7  \\\n",
              "0   0.0 -1.359807 -0.072781  2.536347  1.378155 -0.338321  0.462388  0.239599   \n",
              "1   0.0  1.191857  0.266151  0.166480  0.448154  0.060018 -0.082361 -0.078803   \n",
              "2   1.0 -1.358354 -1.340163  1.773209  0.379780 -0.503198  1.800499  0.791461   \n",
              "3   1.0 -0.966272 -0.185226  1.792993 -0.863291 -0.010309  1.247203  0.237609   \n",
              "4   2.0 -1.158233  0.877737  1.548718  0.403034 -0.407193  0.095921  0.592941   \n",
              "\n",
              "         V8        V9  ...       V21       V22       V23       V24       V25  \\\n",
              "0  0.098698  0.363787  ... -0.018307  0.277838 -0.110474  0.066928  0.128539   \n",
              "1  0.085102 -0.255425  ... -0.225775 -0.638672  0.101288 -0.339846  0.167170   \n",
              "2  0.247676 -1.514654  ...  0.247998  0.771679  0.909412 -0.689281 -0.327642   \n",
              "3  0.377436 -1.387024  ... -0.108300  0.005274 -0.190321 -1.175575  0.647376   \n",
              "4 -0.270533  0.817739  ... -0.009431  0.798278 -0.137458  0.141267 -0.206010   \n",
              "\n",
              "        V26       V27       V28  Amount  Class  \n",
              "0 -0.189115  0.133558 -0.021053  149.62      0  \n",
              "1  0.125895 -0.008983  0.014724    2.69      0  \n",
              "2 -0.139097 -0.055353 -0.059752  378.66      0  \n",
              "3 -0.221929  0.062723  0.061458  123.50      0  \n",
              "4  0.502292  0.219422  0.215153   69.99      0  \n",
              "\n",
              "[5 rows x 31 columns]"
            ],
            "text/html": [
              "\n",
              "  <div id=\"df-341f9450-553f-4d9c-8b0f-39f36e1b8617\">\n",
              "    <div class=\"colab-df-container\">\n",
              "      <div>\n",
              "<style scoped>\n",
              "    .dataframe tbody tr th:only-of-type {\n",
              "        vertical-align: middle;\n",
              "    }\n",
              "\n",
              "    .dataframe tbody tr th {\n",
              "        vertical-align: top;\n",
              "    }\n",
              "\n",
              "    .dataframe thead th {\n",
              "        text-align: right;\n",
              "    }\n",
              "</style>\n",
              "<table border=\"1\" class=\"dataframe\">\n",
              "  <thead>\n",
              "    <tr style=\"text-align: right;\">\n",
              "      <th></th>\n",
              "      <th>Time</th>\n",
              "      <th>V1</th>\n",
              "      <th>V2</th>\n",
              "      <th>V3</th>\n",
              "      <th>V4</th>\n",
              "      <th>V5</th>\n",
              "      <th>V6</th>\n",
              "      <th>V7</th>\n",
              "      <th>V8</th>\n",
              "      <th>V9</th>\n",
              "      <th>...</th>\n",
              "      <th>V21</th>\n",
              "      <th>V22</th>\n",
              "      <th>V23</th>\n",
              "      <th>V24</th>\n",
              "      <th>V25</th>\n",
              "      <th>V26</th>\n",
              "      <th>V27</th>\n",
              "      <th>V28</th>\n",
              "      <th>Amount</th>\n",
              "      <th>Class</th>\n",
              "    </tr>\n",
              "  </thead>\n",
              "  <tbody>\n",
              "    <tr>\n",
              "      <th>0</th>\n",
              "      <td>0.0</td>\n",
              "      <td>-1.359807</td>\n",
              "      <td>-0.072781</td>\n",
              "      <td>2.536347</td>\n",
              "      <td>1.378155</td>\n",
              "      <td>-0.338321</td>\n",
              "      <td>0.462388</td>\n",
              "      <td>0.239599</td>\n",
              "      <td>0.098698</td>\n",
              "      <td>0.363787</td>\n",
              "      <td>...</td>\n",
              "      <td>-0.018307</td>\n",
              "      <td>0.277838</td>\n",
              "      <td>-0.110474</td>\n",
              "      <td>0.066928</td>\n",
              "      <td>0.128539</td>\n",
              "      <td>-0.189115</td>\n",
              "      <td>0.133558</td>\n",
              "      <td>-0.021053</td>\n",
              "      <td>149.62</td>\n",
              "      <td>0</td>\n",
              "    </tr>\n",
              "    <tr>\n",
              "      <th>1</th>\n",
              "      <td>0.0</td>\n",
              "      <td>1.191857</td>\n",
              "      <td>0.266151</td>\n",
              "      <td>0.166480</td>\n",
              "      <td>0.448154</td>\n",
              "      <td>0.060018</td>\n",
              "      <td>-0.082361</td>\n",
              "      <td>-0.078803</td>\n",
              "      <td>0.085102</td>\n",
              "      <td>-0.255425</td>\n",
              "      <td>...</td>\n",
              "      <td>-0.225775</td>\n",
              "      <td>-0.638672</td>\n",
              "      <td>0.101288</td>\n",
              "      <td>-0.339846</td>\n",
              "      <td>0.167170</td>\n",
              "      <td>0.125895</td>\n",
              "      <td>-0.008983</td>\n",
              "      <td>0.014724</td>\n",
              "      <td>2.69</td>\n",
              "      <td>0</td>\n",
              "    </tr>\n",
              "    <tr>\n",
              "      <th>2</th>\n",
              "      <td>1.0</td>\n",
              "      <td>-1.358354</td>\n",
              "      <td>-1.340163</td>\n",
              "      <td>1.773209</td>\n",
              "      <td>0.379780</td>\n",
              "      <td>-0.503198</td>\n",
              "      <td>1.800499</td>\n",
              "      <td>0.791461</td>\n",
              "      <td>0.247676</td>\n",
              "      <td>-1.514654</td>\n",
              "      <td>...</td>\n",
              "      <td>0.247998</td>\n",
              "      <td>0.771679</td>\n",
              "      <td>0.909412</td>\n",
              "      <td>-0.689281</td>\n",
              "      <td>-0.327642</td>\n",
              "      <td>-0.139097</td>\n",
              "      <td>-0.055353</td>\n",
              "      <td>-0.059752</td>\n",
              "      <td>378.66</td>\n",
              "      <td>0</td>\n",
              "    </tr>\n",
              "    <tr>\n",
              "      <th>3</th>\n",
              "      <td>1.0</td>\n",
              "      <td>-0.966272</td>\n",
              "      <td>-0.185226</td>\n",
              "      <td>1.792993</td>\n",
              "      <td>-0.863291</td>\n",
              "      <td>-0.010309</td>\n",
              "      <td>1.247203</td>\n",
              "      <td>0.237609</td>\n",
              "      <td>0.377436</td>\n",
              "      <td>-1.387024</td>\n",
              "      <td>...</td>\n",
              "      <td>-0.108300</td>\n",
              "      <td>0.005274</td>\n",
              "      <td>-0.190321</td>\n",
              "      <td>-1.175575</td>\n",
              "      <td>0.647376</td>\n",
              "      <td>-0.221929</td>\n",
              "      <td>0.062723</td>\n",
              "      <td>0.061458</td>\n",
              "      <td>123.50</td>\n",
              "      <td>0</td>\n",
              "    </tr>\n",
              "    <tr>\n",
              "      <th>4</th>\n",
              "      <td>2.0</td>\n",
              "      <td>-1.158233</td>\n",
              "      <td>0.877737</td>\n",
              "      <td>1.548718</td>\n",
              "      <td>0.403034</td>\n",
              "      <td>-0.407193</td>\n",
              "      <td>0.095921</td>\n",
              "      <td>0.592941</td>\n",
              "      <td>-0.270533</td>\n",
              "      <td>0.817739</td>\n",
              "      <td>...</td>\n",
              "      <td>-0.009431</td>\n",
              "      <td>0.798278</td>\n",
              "      <td>-0.137458</td>\n",
              "      <td>0.141267</td>\n",
              "      <td>-0.206010</td>\n",
              "      <td>0.502292</td>\n",
              "      <td>0.219422</td>\n",
              "      <td>0.215153</td>\n",
              "      <td>69.99</td>\n",
              "      <td>0</td>\n",
              "    </tr>\n",
              "  </tbody>\n",
              "</table>\n",
              "<p>5 rows × 31 columns</p>\n",
              "</div>\n",
              "      <button class=\"colab-df-convert\" onclick=\"convertToInteractive('df-341f9450-553f-4d9c-8b0f-39f36e1b8617')\"\n",
              "              title=\"Convert this dataframe to an interactive table.\"\n",
              "              style=\"display:none;\">\n",
              "        \n",
              "  <svg xmlns=\"http://www.w3.org/2000/svg\" height=\"24px\"viewBox=\"0 0 24 24\"\n",
              "       width=\"24px\">\n",
              "    <path d=\"M0 0h24v24H0V0z\" fill=\"none\"/>\n",
              "    <path d=\"M18.56 5.44l.94 2.06.94-2.06 2.06-.94-2.06-.94-.94-2.06-.94 2.06-2.06.94zm-11 1L8.5 8.5l.94-2.06 2.06-.94-2.06-.94L8.5 2.5l-.94 2.06-2.06.94zm10 10l.94 2.06.94-2.06 2.06-.94-2.06-.94-.94-2.06-.94 2.06-2.06.94z\"/><path d=\"M17.41 7.96l-1.37-1.37c-.4-.4-.92-.59-1.43-.59-.52 0-1.04.2-1.43.59L10.3 9.45l-7.72 7.72c-.78.78-.78 2.05 0 2.83L4 21.41c.39.39.9.59 1.41.59.51 0 1.02-.2 1.41-.59l7.78-7.78 2.81-2.81c.8-.78.8-2.07 0-2.86zM5.41 20L4 18.59l7.72-7.72 1.47 1.35L5.41 20z\"/>\n",
              "  </svg>\n",
              "      </button>\n",
              "      \n",
              "  <style>\n",
              "    .colab-df-container {\n",
              "      display:flex;\n",
              "      flex-wrap:wrap;\n",
              "      gap: 12px;\n",
              "    }\n",
              "\n",
              "    .colab-df-convert {\n",
              "      background-color: #E8F0FE;\n",
              "      border: none;\n",
              "      border-radius: 50%;\n",
              "      cursor: pointer;\n",
              "      display: none;\n",
              "      fill: #1967D2;\n",
              "      height: 32px;\n",
              "      padding: 0 0 0 0;\n",
              "      width: 32px;\n",
              "    }\n",
              "\n",
              "    .colab-df-convert:hover {\n",
              "      background-color: #E2EBFA;\n",
              "      box-shadow: 0px 1px 2px rgba(60, 64, 67, 0.3), 0px 1px 3px 1px rgba(60, 64, 67, 0.15);\n",
              "      fill: #174EA6;\n",
              "    }\n",
              "\n",
              "    [theme=dark] .colab-df-convert {\n",
              "      background-color: #3B4455;\n",
              "      fill: #D2E3FC;\n",
              "    }\n",
              "\n",
              "    [theme=dark] .colab-df-convert:hover {\n",
              "      background-color: #434B5C;\n",
              "      box-shadow: 0px 1px 3px 1px rgba(0, 0, 0, 0.15);\n",
              "      filter: drop-shadow(0px 1px 2px rgba(0, 0, 0, 0.3));\n",
              "      fill: #FFFFFF;\n",
              "    }\n",
              "  </style>\n",
              "\n",
              "      <script>\n",
              "        const buttonEl =\n",
              "          document.querySelector('#df-341f9450-553f-4d9c-8b0f-39f36e1b8617 button.colab-df-convert');\n",
              "        buttonEl.style.display =\n",
              "          google.colab.kernel.accessAllowed ? 'block' : 'none';\n",
              "\n",
              "        async function convertToInteractive(key) {\n",
              "          const element = document.querySelector('#df-341f9450-553f-4d9c-8b0f-39f36e1b8617');\n",
              "          const dataTable =\n",
              "            await google.colab.kernel.invokeFunction('convertToInteractive',\n",
              "                                                     [key], {});\n",
              "          if (!dataTable) return;\n",
              "\n",
              "          const docLinkHtml = 'Like what you see? Visit the ' +\n",
              "            '<a target=\"_blank\" href=https://colab.research.google.com/notebooks/data_table.ipynb>data table notebook</a>'\n",
              "            + ' to learn more about interactive tables.';\n",
              "          element.innerHTML = '';\n",
              "          dataTable['output_type'] = 'display_data';\n",
              "          await google.colab.output.renderOutput(dataTable, element);\n",
              "          const docLink = document.createElement('div');\n",
              "          docLink.innerHTML = docLinkHtml;\n",
              "          element.appendChild(docLink);\n",
              "        }\n",
              "      </script>\n",
              "    </div>\n",
              "  </div>\n",
              "  "
            ]
          },
          "metadata": {},
          "execution_count": 3
        }
      ],
      "source": [
        "#tamanho do dataframe\n",
        "print('Detalhamento do DataFrame')\n",
        "print(f'Entradas do DataFrame: \\t{df.shape[0]}')\n",
        "print(f'Atributos do DataFrame: \\t{df.shape[1]}')\n",
        "\n",
        "#visualizar as primeiras entradas\n",
        "df.head()"
      ]
    },
    {
      "cell_type": "code",
      "source": [
        "#Título das colunas\n",
        "df.columns"
      ],
      "metadata": {
        "colab": {
          "base_uri": "https://localhost:8080/"
        },
        "id": "fPk3Ja5cCGN9",
        "outputId": "765bacc5-824d-4dc6-b525-7b8c11aa6bff"
      },
      "execution_count": 4,
      "outputs": [
        {
          "output_type": "execute_result",
          "data": {
            "text/plain": [
              "Index(['Time', 'V1', 'V2', 'V3', 'V4', 'V5', 'V6', 'V7', 'V8', 'V9', 'V10',\n",
              "       'V11', 'V12', 'V13', 'V14', 'V15', 'V16', 'V17', 'V18', 'V19', 'V20',\n",
              "       'V21', 'V22', 'V23', 'V24', 'V25', 'V26', 'V27', 'V28', 'Amount',\n",
              "       'Class'],\n",
              "      dtype='object')"
            ]
          },
          "metadata": {},
          "execution_count": 4
        }
      ]
    },
    {
      "cell_type": "markdown",
      "source": [
        "Ao todo a base de dados possui **284.807** com **31** atributos distintos. Existe uma boa quantidades de dados para construir e validar um modelo de Machine Learning. Dentre os atributos disponíveis estão `Time`, `Amount`, `Class`. Existem demais outras variáveis que variam entre `V1` até `V28`. Infelizmente não é possível visualizar o que cada campo representa, mas sabe-se que eles provavelmente apoiarão o modelo a ser construído."
      ],
      "metadata": {
        "id": "A1HU-4RmHH_Q"
      }
    },
    {
      "cell_type": "markdown",
      "source": [
        "###3.2 Tipo dos dados\n",
        "\n",
        "Além de saber o tamanho e nome dos campos do dataframe é importante esclarecer também qual o formato dos dados disponíveis de cada atributo. O formato do dado pode afetar negativamente posteriores análises e testes matemáticos (ex.: o número 2 em formato de texto). Um clássico exemplo são campos de tempo (data, hora) que não vem formatados devidamente e limitam as análises se não forem convertidos."
      ],
      "metadata": {
        "id": "npf0i2zaYk0Z"
      }
    },
    {
      "cell_type": "code",
      "source": [
        "#Formato dos valores de cada coluna do dataset\n",
        "pd.DataFrame(df.dtypes, columns=['Tipo'])"
      ],
      "metadata": {
        "colab": {
          "base_uri": "https://localhost:8080/",
          "height": 1000
        },
        "id": "HqWtWia9CLoI",
        "outputId": "d19e5f7e-97ad-4a84-c8af-dda1db4fbb61"
      },
      "execution_count": 5,
      "outputs": [
        {
          "output_type": "execute_result",
          "data": {
            "text/plain": [
              "           Tipo\n",
              "Time    float64\n",
              "V1      float64\n",
              "V2      float64\n",
              "V3      float64\n",
              "V4      float64\n",
              "V5      float64\n",
              "V6      float64\n",
              "V7      float64\n",
              "V8      float64\n",
              "V9      float64\n",
              "V10     float64\n",
              "V11     float64\n",
              "V12     float64\n",
              "V13     float64\n",
              "V14     float64\n",
              "V15     float64\n",
              "V16     float64\n",
              "V17     float64\n",
              "V18     float64\n",
              "V19     float64\n",
              "V20     float64\n",
              "V21     float64\n",
              "V22     float64\n",
              "V23     float64\n",
              "V24     float64\n",
              "V25     float64\n",
              "V26     float64\n",
              "V27     float64\n",
              "V28     float64\n",
              "Amount  float64\n",
              "Class     int64"
            ],
            "text/html": [
              "\n",
              "  <div id=\"df-1d704f77-7997-4441-bf8f-c8c34a4e944c\">\n",
              "    <div class=\"colab-df-container\">\n",
              "      <div>\n",
              "<style scoped>\n",
              "    .dataframe tbody tr th:only-of-type {\n",
              "        vertical-align: middle;\n",
              "    }\n",
              "\n",
              "    .dataframe tbody tr th {\n",
              "        vertical-align: top;\n",
              "    }\n",
              "\n",
              "    .dataframe thead th {\n",
              "        text-align: right;\n",
              "    }\n",
              "</style>\n",
              "<table border=\"1\" class=\"dataframe\">\n",
              "  <thead>\n",
              "    <tr style=\"text-align: right;\">\n",
              "      <th></th>\n",
              "      <th>Tipo</th>\n",
              "    </tr>\n",
              "  </thead>\n",
              "  <tbody>\n",
              "    <tr>\n",
              "      <th>Time</th>\n",
              "      <td>float64</td>\n",
              "    </tr>\n",
              "    <tr>\n",
              "      <th>V1</th>\n",
              "      <td>float64</td>\n",
              "    </tr>\n",
              "    <tr>\n",
              "      <th>V2</th>\n",
              "      <td>float64</td>\n",
              "    </tr>\n",
              "    <tr>\n",
              "      <th>V3</th>\n",
              "      <td>float64</td>\n",
              "    </tr>\n",
              "    <tr>\n",
              "      <th>V4</th>\n",
              "      <td>float64</td>\n",
              "    </tr>\n",
              "    <tr>\n",
              "      <th>V5</th>\n",
              "      <td>float64</td>\n",
              "    </tr>\n",
              "    <tr>\n",
              "      <th>V6</th>\n",
              "      <td>float64</td>\n",
              "    </tr>\n",
              "    <tr>\n",
              "      <th>V7</th>\n",
              "      <td>float64</td>\n",
              "    </tr>\n",
              "    <tr>\n",
              "      <th>V8</th>\n",
              "      <td>float64</td>\n",
              "    </tr>\n",
              "    <tr>\n",
              "      <th>V9</th>\n",
              "      <td>float64</td>\n",
              "    </tr>\n",
              "    <tr>\n",
              "      <th>V10</th>\n",
              "      <td>float64</td>\n",
              "    </tr>\n",
              "    <tr>\n",
              "      <th>V11</th>\n",
              "      <td>float64</td>\n",
              "    </tr>\n",
              "    <tr>\n",
              "      <th>V12</th>\n",
              "      <td>float64</td>\n",
              "    </tr>\n",
              "    <tr>\n",
              "      <th>V13</th>\n",
              "      <td>float64</td>\n",
              "    </tr>\n",
              "    <tr>\n",
              "      <th>V14</th>\n",
              "      <td>float64</td>\n",
              "    </tr>\n",
              "    <tr>\n",
              "      <th>V15</th>\n",
              "      <td>float64</td>\n",
              "    </tr>\n",
              "    <tr>\n",
              "      <th>V16</th>\n",
              "      <td>float64</td>\n",
              "    </tr>\n",
              "    <tr>\n",
              "      <th>V17</th>\n",
              "      <td>float64</td>\n",
              "    </tr>\n",
              "    <tr>\n",
              "      <th>V18</th>\n",
              "      <td>float64</td>\n",
              "    </tr>\n",
              "    <tr>\n",
              "      <th>V19</th>\n",
              "      <td>float64</td>\n",
              "    </tr>\n",
              "    <tr>\n",
              "      <th>V20</th>\n",
              "      <td>float64</td>\n",
              "    </tr>\n",
              "    <tr>\n",
              "      <th>V21</th>\n",
              "      <td>float64</td>\n",
              "    </tr>\n",
              "    <tr>\n",
              "      <th>V22</th>\n",
              "      <td>float64</td>\n",
              "    </tr>\n",
              "    <tr>\n",
              "      <th>V23</th>\n",
              "      <td>float64</td>\n",
              "    </tr>\n",
              "    <tr>\n",
              "      <th>V24</th>\n",
              "      <td>float64</td>\n",
              "    </tr>\n",
              "    <tr>\n",
              "      <th>V25</th>\n",
              "      <td>float64</td>\n",
              "    </tr>\n",
              "    <tr>\n",
              "      <th>V26</th>\n",
              "      <td>float64</td>\n",
              "    </tr>\n",
              "    <tr>\n",
              "      <th>V27</th>\n",
              "      <td>float64</td>\n",
              "    </tr>\n",
              "    <tr>\n",
              "      <th>V28</th>\n",
              "      <td>float64</td>\n",
              "    </tr>\n",
              "    <tr>\n",
              "      <th>Amount</th>\n",
              "      <td>float64</td>\n",
              "    </tr>\n",
              "    <tr>\n",
              "      <th>Class</th>\n",
              "      <td>int64</td>\n",
              "    </tr>\n",
              "  </tbody>\n",
              "</table>\n",
              "</div>\n",
              "      <button class=\"colab-df-convert\" onclick=\"convertToInteractive('df-1d704f77-7997-4441-bf8f-c8c34a4e944c')\"\n",
              "              title=\"Convert this dataframe to an interactive table.\"\n",
              "              style=\"display:none;\">\n",
              "        \n",
              "  <svg xmlns=\"http://www.w3.org/2000/svg\" height=\"24px\"viewBox=\"0 0 24 24\"\n",
              "       width=\"24px\">\n",
              "    <path d=\"M0 0h24v24H0V0z\" fill=\"none\"/>\n",
              "    <path d=\"M18.56 5.44l.94 2.06.94-2.06 2.06-.94-2.06-.94-.94-2.06-.94 2.06-2.06.94zm-11 1L8.5 8.5l.94-2.06 2.06-.94-2.06-.94L8.5 2.5l-.94 2.06-2.06.94zm10 10l.94 2.06.94-2.06 2.06-.94-2.06-.94-.94-2.06-.94 2.06-2.06.94z\"/><path d=\"M17.41 7.96l-1.37-1.37c-.4-.4-.92-.59-1.43-.59-.52 0-1.04.2-1.43.59L10.3 9.45l-7.72 7.72c-.78.78-.78 2.05 0 2.83L4 21.41c.39.39.9.59 1.41.59.51 0 1.02-.2 1.41-.59l7.78-7.78 2.81-2.81c.8-.78.8-2.07 0-2.86zM5.41 20L4 18.59l7.72-7.72 1.47 1.35L5.41 20z\"/>\n",
              "  </svg>\n",
              "      </button>\n",
              "      \n",
              "  <style>\n",
              "    .colab-df-container {\n",
              "      display:flex;\n",
              "      flex-wrap:wrap;\n",
              "      gap: 12px;\n",
              "    }\n",
              "\n",
              "    .colab-df-convert {\n",
              "      background-color: #E8F0FE;\n",
              "      border: none;\n",
              "      border-radius: 50%;\n",
              "      cursor: pointer;\n",
              "      display: none;\n",
              "      fill: #1967D2;\n",
              "      height: 32px;\n",
              "      padding: 0 0 0 0;\n",
              "      width: 32px;\n",
              "    }\n",
              "\n",
              "    .colab-df-convert:hover {\n",
              "      background-color: #E2EBFA;\n",
              "      box-shadow: 0px 1px 2px rgba(60, 64, 67, 0.3), 0px 1px 3px 1px rgba(60, 64, 67, 0.15);\n",
              "      fill: #174EA6;\n",
              "    }\n",
              "\n",
              "    [theme=dark] .colab-df-convert {\n",
              "      background-color: #3B4455;\n",
              "      fill: #D2E3FC;\n",
              "    }\n",
              "\n",
              "    [theme=dark] .colab-df-convert:hover {\n",
              "      background-color: #434B5C;\n",
              "      box-shadow: 0px 1px 3px 1px rgba(0, 0, 0, 0.15);\n",
              "      filter: drop-shadow(0px 1px 2px rgba(0, 0, 0, 0.3));\n",
              "      fill: #FFFFFF;\n",
              "    }\n",
              "  </style>\n",
              "\n",
              "      <script>\n",
              "        const buttonEl =\n",
              "          document.querySelector('#df-1d704f77-7997-4441-bf8f-c8c34a4e944c button.colab-df-convert');\n",
              "        buttonEl.style.display =\n",
              "          google.colab.kernel.accessAllowed ? 'block' : 'none';\n",
              "\n",
              "        async function convertToInteractive(key) {\n",
              "          const element = document.querySelector('#df-1d704f77-7997-4441-bf8f-c8c34a4e944c');\n",
              "          const dataTable =\n",
              "            await google.colab.kernel.invokeFunction('convertToInteractive',\n",
              "                                                     [key], {});\n",
              "          if (!dataTable) return;\n",
              "\n",
              "          const docLinkHtml = 'Like what you see? Visit the ' +\n",
              "            '<a target=\"_blank\" href=https://colab.research.google.com/notebooks/data_table.ipynb>data table notebook</a>'\n",
              "            + ' to learn more about interactive tables.';\n",
              "          element.innerHTML = '';\n",
              "          dataTable['output_type'] = 'display_data';\n",
              "          await google.colab.output.renderOutput(dataTable, element);\n",
              "          const docLink = document.createElement('div');\n",
              "          docLink.innerHTML = docLinkHtml;\n",
              "          element.appendChild(docLink);\n",
              "        }\n",
              "      </script>\n",
              "    </div>\n",
              "  </div>\n",
              "  "
            ]
          },
          "metadata": {},
          "execution_count": 5
        }
      ]
    },
    {
      "cell_type": "markdown",
      "source": [
        "Com exceção do atributo `Class`, todos os demais campos possuem seus dados com o tipo **flutuante**, ou seja, números com casas decimais. `Class` possui o tipo **inteiro**, pois seus valores são resultados binários, ou seja, \"0\" ou \"1\" onde \"0\" indica que **não houve fraude** e \"1\" indica que **houve fraude**. Em geral, os dados não apresentam nenhum problema de formatação e poderão ser utilizados no formato que estão"
      ],
      "metadata": {
        "id": "GyRdmJEhW8aQ"
      }
    },
    {
      "cell_type": "markdown",
      "source": [
        "###3.3 Valores nulos\n",
        "\n",
        "Em seguida, é importante verificar a existência de valores nulos dentro do dataframe. Campos vazios significam ausência de dados o que pode prejudicar a interpretação de certas informações nas entradas ou mesmo ao estudar um conjunto de dados maior. Para um modelo de Machine Learning este é um tópico ainda mais preocupante, pois entradas sem dados podem afetar os resultados do modelo como um todo. Assim, importa muito determinar se há ausência e  a quantidade. "
      ],
      "metadata": {
        "id": "oT_guE6KboZC"
      }
    },
    {
      "cell_type": "code",
      "source": [
        "#Verificação de valores ausentes\n",
        "pd.DataFrame(df.isnull().sum().sort_values(ascending=False), \n",
        "             columns=['Valores Vazios'])"
      ],
      "metadata": {
        "colab": {
          "base_uri": "https://localhost:8080/",
          "height": 1000
        },
        "id": "ew1-8RsSAjcy",
        "outputId": "88e324f5-470a-40ba-9406-f3ca25c5bd10"
      },
      "execution_count": 6,
      "outputs": [
        {
          "output_type": "execute_result",
          "data": {
            "text/plain": [
              "        Valores Vazios\n",
              "Time                 0\n",
              "V16                  0\n",
              "Amount               0\n",
              "V28                  0\n",
              "V27                  0\n",
              "V26                  0\n",
              "V25                  0\n",
              "V24                  0\n",
              "V23                  0\n",
              "V22                  0\n",
              "V21                  0\n",
              "V20                  0\n",
              "V19                  0\n",
              "V18                  0\n",
              "V17                  0\n",
              "V15                  0\n",
              "V1                   0\n",
              "V14                  0\n",
              "V13                  0\n",
              "V12                  0\n",
              "V11                  0\n",
              "V10                  0\n",
              "V9                   0\n",
              "V8                   0\n",
              "V7                   0\n",
              "V6                   0\n",
              "V5                   0\n",
              "V4                   0\n",
              "V3                   0\n",
              "V2                   0\n",
              "Class                0"
            ],
            "text/html": [
              "\n",
              "  <div id=\"df-a222f84e-7fd1-4507-b127-1d189dcacab1\">\n",
              "    <div class=\"colab-df-container\">\n",
              "      <div>\n",
              "<style scoped>\n",
              "    .dataframe tbody tr th:only-of-type {\n",
              "        vertical-align: middle;\n",
              "    }\n",
              "\n",
              "    .dataframe tbody tr th {\n",
              "        vertical-align: top;\n",
              "    }\n",
              "\n",
              "    .dataframe thead th {\n",
              "        text-align: right;\n",
              "    }\n",
              "</style>\n",
              "<table border=\"1\" class=\"dataframe\">\n",
              "  <thead>\n",
              "    <tr style=\"text-align: right;\">\n",
              "      <th></th>\n",
              "      <th>Valores Vazios</th>\n",
              "    </tr>\n",
              "  </thead>\n",
              "  <tbody>\n",
              "    <tr>\n",
              "      <th>Time</th>\n",
              "      <td>0</td>\n",
              "    </tr>\n",
              "    <tr>\n",
              "      <th>V16</th>\n",
              "      <td>0</td>\n",
              "    </tr>\n",
              "    <tr>\n",
              "      <th>Amount</th>\n",
              "      <td>0</td>\n",
              "    </tr>\n",
              "    <tr>\n",
              "      <th>V28</th>\n",
              "      <td>0</td>\n",
              "    </tr>\n",
              "    <tr>\n",
              "      <th>V27</th>\n",
              "      <td>0</td>\n",
              "    </tr>\n",
              "    <tr>\n",
              "      <th>V26</th>\n",
              "      <td>0</td>\n",
              "    </tr>\n",
              "    <tr>\n",
              "      <th>V25</th>\n",
              "      <td>0</td>\n",
              "    </tr>\n",
              "    <tr>\n",
              "      <th>V24</th>\n",
              "      <td>0</td>\n",
              "    </tr>\n",
              "    <tr>\n",
              "      <th>V23</th>\n",
              "      <td>0</td>\n",
              "    </tr>\n",
              "    <tr>\n",
              "      <th>V22</th>\n",
              "      <td>0</td>\n",
              "    </tr>\n",
              "    <tr>\n",
              "      <th>V21</th>\n",
              "      <td>0</td>\n",
              "    </tr>\n",
              "    <tr>\n",
              "      <th>V20</th>\n",
              "      <td>0</td>\n",
              "    </tr>\n",
              "    <tr>\n",
              "      <th>V19</th>\n",
              "      <td>0</td>\n",
              "    </tr>\n",
              "    <tr>\n",
              "      <th>V18</th>\n",
              "      <td>0</td>\n",
              "    </tr>\n",
              "    <tr>\n",
              "      <th>V17</th>\n",
              "      <td>0</td>\n",
              "    </tr>\n",
              "    <tr>\n",
              "      <th>V15</th>\n",
              "      <td>0</td>\n",
              "    </tr>\n",
              "    <tr>\n",
              "      <th>V1</th>\n",
              "      <td>0</td>\n",
              "    </tr>\n",
              "    <tr>\n",
              "      <th>V14</th>\n",
              "      <td>0</td>\n",
              "    </tr>\n",
              "    <tr>\n",
              "      <th>V13</th>\n",
              "      <td>0</td>\n",
              "    </tr>\n",
              "    <tr>\n",
              "      <th>V12</th>\n",
              "      <td>0</td>\n",
              "    </tr>\n",
              "    <tr>\n",
              "      <th>V11</th>\n",
              "      <td>0</td>\n",
              "    </tr>\n",
              "    <tr>\n",
              "      <th>V10</th>\n",
              "      <td>0</td>\n",
              "    </tr>\n",
              "    <tr>\n",
              "      <th>V9</th>\n",
              "      <td>0</td>\n",
              "    </tr>\n",
              "    <tr>\n",
              "      <th>V8</th>\n",
              "      <td>0</td>\n",
              "    </tr>\n",
              "    <tr>\n",
              "      <th>V7</th>\n",
              "      <td>0</td>\n",
              "    </tr>\n",
              "    <tr>\n",
              "      <th>V6</th>\n",
              "      <td>0</td>\n",
              "    </tr>\n",
              "    <tr>\n",
              "      <th>V5</th>\n",
              "      <td>0</td>\n",
              "    </tr>\n",
              "    <tr>\n",
              "      <th>V4</th>\n",
              "      <td>0</td>\n",
              "    </tr>\n",
              "    <tr>\n",
              "      <th>V3</th>\n",
              "      <td>0</td>\n",
              "    </tr>\n",
              "    <tr>\n",
              "      <th>V2</th>\n",
              "      <td>0</td>\n",
              "    </tr>\n",
              "    <tr>\n",
              "      <th>Class</th>\n",
              "      <td>0</td>\n",
              "    </tr>\n",
              "  </tbody>\n",
              "</table>\n",
              "</div>\n",
              "      <button class=\"colab-df-convert\" onclick=\"convertToInteractive('df-a222f84e-7fd1-4507-b127-1d189dcacab1')\"\n",
              "              title=\"Convert this dataframe to an interactive table.\"\n",
              "              style=\"display:none;\">\n",
              "        \n",
              "  <svg xmlns=\"http://www.w3.org/2000/svg\" height=\"24px\"viewBox=\"0 0 24 24\"\n",
              "       width=\"24px\">\n",
              "    <path d=\"M0 0h24v24H0V0z\" fill=\"none\"/>\n",
              "    <path d=\"M18.56 5.44l.94 2.06.94-2.06 2.06-.94-2.06-.94-.94-2.06-.94 2.06-2.06.94zm-11 1L8.5 8.5l.94-2.06 2.06-.94-2.06-.94L8.5 2.5l-.94 2.06-2.06.94zm10 10l.94 2.06.94-2.06 2.06-.94-2.06-.94-.94-2.06-.94 2.06-2.06.94z\"/><path d=\"M17.41 7.96l-1.37-1.37c-.4-.4-.92-.59-1.43-.59-.52 0-1.04.2-1.43.59L10.3 9.45l-7.72 7.72c-.78.78-.78 2.05 0 2.83L4 21.41c.39.39.9.59 1.41.59.51 0 1.02-.2 1.41-.59l7.78-7.78 2.81-2.81c.8-.78.8-2.07 0-2.86zM5.41 20L4 18.59l7.72-7.72 1.47 1.35L5.41 20z\"/>\n",
              "  </svg>\n",
              "      </button>\n",
              "      \n",
              "  <style>\n",
              "    .colab-df-container {\n",
              "      display:flex;\n",
              "      flex-wrap:wrap;\n",
              "      gap: 12px;\n",
              "    }\n",
              "\n",
              "    .colab-df-convert {\n",
              "      background-color: #E8F0FE;\n",
              "      border: none;\n",
              "      border-radius: 50%;\n",
              "      cursor: pointer;\n",
              "      display: none;\n",
              "      fill: #1967D2;\n",
              "      height: 32px;\n",
              "      padding: 0 0 0 0;\n",
              "      width: 32px;\n",
              "    }\n",
              "\n",
              "    .colab-df-convert:hover {\n",
              "      background-color: #E2EBFA;\n",
              "      box-shadow: 0px 1px 2px rgba(60, 64, 67, 0.3), 0px 1px 3px 1px rgba(60, 64, 67, 0.15);\n",
              "      fill: #174EA6;\n",
              "    }\n",
              "\n",
              "    [theme=dark] .colab-df-convert {\n",
              "      background-color: #3B4455;\n",
              "      fill: #D2E3FC;\n",
              "    }\n",
              "\n",
              "    [theme=dark] .colab-df-convert:hover {\n",
              "      background-color: #434B5C;\n",
              "      box-shadow: 0px 1px 3px 1px rgba(0, 0, 0, 0.15);\n",
              "      filter: drop-shadow(0px 1px 2px rgba(0, 0, 0, 0.3));\n",
              "      fill: #FFFFFF;\n",
              "    }\n",
              "  </style>\n",
              "\n",
              "      <script>\n",
              "        const buttonEl =\n",
              "          document.querySelector('#df-a222f84e-7fd1-4507-b127-1d189dcacab1 button.colab-df-convert');\n",
              "        buttonEl.style.display =\n",
              "          google.colab.kernel.accessAllowed ? 'block' : 'none';\n",
              "\n",
              "        async function convertToInteractive(key) {\n",
              "          const element = document.querySelector('#df-a222f84e-7fd1-4507-b127-1d189dcacab1');\n",
              "          const dataTable =\n",
              "            await google.colab.kernel.invokeFunction('convertToInteractive',\n",
              "                                                     [key], {});\n",
              "          if (!dataTable) return;\n",
              "\n",
              "          const docLinkHtml = 'Like what you see? Visit the ' +\n",
              "            '<a target=\"_blank\" href=https://colab.research.google.com/notebooks/data_table.ipynb>data table notebook</a>'\n",
              "            + ' to learn more about interactive tables.';\n",
              "          element.innerHTML = '';\n",
              "          dataTable['output_type'] = 'display_data';\n",
              "          await google.colab.output.renderOutput(dataTable, element);\n",
              "          const docLink = document.createElement('div');\n",
              "          docLink.innerHTML = docLinkHtml;\n",
              "          element.appendChild(docLink);\n",
              "        }\n",
              "      </script>\n",
              "    </div>\n",
              "  </div>\n",
              "  "
            ]
          },
          "metadata": {},
          "execution_count": 6
        }
      ]
    },
    {
      "cell_type": "markdown",
      "source": [
        "Percebe-se que **não existem valores ausentes**. Em outras palavras, não há risco de a ausência de dados danificar as análises e modelos a serem construídos em seguida."
      ],
      "metadata": {
        "id": "6f2bO7TsYbFy"
      }
    },
    {
      "cell_type": "markdown",
      "source": [
        "###3.4 Informações estatísticas básicas\n",
        "\n",
        "Em seguida, serão calculadas algumas informações estatísticas básicas (média, mediana, quartis, desvio padrão, etc). Estas informações ajudam a entender como estão distribuídos os dados na fonte importada e identificar possíveis problemas como, por exemplo, a presença de outliers."
      ],
      "metadata": {
        "id": "p5CLcxBmgmwZ"
      }
    },
    {
      "cell_type": "code",
      "source": [
        "#Resumo estatístico do dataframe\n",
        "df.describe()"
      ],
      "metadata": {
        "colab": {
          "base_uri": "https://localhost:8080/",
          "height": 394
        },
        "id": "yZJ4md6o9OOV",
        "outputId": "33899db9-edaf-46ac-d8ec-8bcb0fdeac1f"
      },
      "execution_count": 7,
      "outputs": [
        {
          "output_type": "execute_result",
          "data": {
            "text/plain": [
              "                Time            V1            V2            V3            V4  \\\n",
              "count  284807.000000  2.848070e+05  2.848070e+05  2.848070e+05  2.848070e+05   \n",
              "mean    94813.859575  3.918649e-15  5.682686e-16 -8.761736e-15  2.811118e-15   \n",
              "std     47488.145955  1.958696e+00  1.651309e+00  1.516255e+00  1.415869e+00   \n",
              "min         0.000000 -5.640751e+01 -7.271573e+01 -4.832559e+01 -5.683171e+00   \n",
              "25%     54201.500000 -9.203734e-01 -5.985499e-01 -8.903648e-01 -8.486401e-01   \n",
              "50%     84692.000000  1.810880e-02  6.548556e-02  1.798463e-01 -1.984653e-02   \n",
              "75%    139320.500000  1.315642e+00  8.037239e-01  1.027196e+00  7.433413e-01   \n",
              "max    172792.000000  2.454930e+00  2.205773e+01  9.382558e+00  1.687534e+01   \n",
              "\n",
              "                 V5            V6            V7            V8            V9  \\\n",
              "count  2.848070e+05  2.848070e+05  2.848070e+05  2.848070e+05  2.848070e+05   \n",
              "mean  -1.552103e-15  2.040130e-15 -1.698953e-15 -1.893285e-16 -3.147640e-15   \n",
              "std    1.380247e+00  1.332271e+00  1.237094e+00  1.194353e+00  1.098632e+00   \n",
              "min   -1.137433e+02 -2.616051e+01 -4.355724e+01 -7.321672e+01 -1.343407e+01   \n",
              "25%   -6.915971e-01 -7.682956e-01 -5.540759e-01 -2.086297e-01 -6.430976e-01   \n",
              "50%   -5.433583e-02 -2.741871e-01  4.010308e-02  2.235804e-02 -5.142873e-02   \n",
              "75%    6.119264e-01  3.985649e-01  5.704361e-01  3.273459e-01  5.971390e-01   \n",
              "max    3.480167e+01  7.330163e+01  1.205895e+02  2.000721e+01  1.559499e+01   \n",
              "\n",
              "       ...           V21           V22           V23           V24  \\\n",
              "count  ...  2.848070e+05  2.848070e+05  2.848070e+05  2.848070e+05   \n",
              "mean   ...  1.473120e-16  8.042109e-16  5.282512e-16  4.456271e-15   \n",
              "std    ...  7.345240e-01  7.257016e-01  6.244603e-01  6.056471e-01   \n",
              "min    ... -3.483038e+01 -1.093314e+01 -4.480774e+01 -2.836627e+00   \n",
              "25%    ... -2.283949e-01 -5.423504e-01 -1.618463e-01 -3.545861e-01   \n",
              "50%    ... -2.945017e-02  6.781943e-03 -1.119293e-02  4.097606e-02   \n",
              "75%    ...  1.863772e-01  5.285536e-01  1.476421e-01  4.395266e-01   \n",
              "max    ...  2.720284e+01  1.050309e+01  2.252841e+01  4.584549e+00   \n",
              "\n",
              "                V25           V26           V27           V28         Amount  \\\n",
              "count  2.848070e+05  2.848070e+05  2.848070e+05  2.848070e+05  284807.000000   \n",
              "mean   1.426896e-15  1.701640e-15 -3.662252e-16 -1.217809e-16      88.349619   \n",
              "std    5.212781e-01  4.822270e-01  4.036325e-01  3.300833e-01     250.120109   \n",
              "min   -1.029540e+01 -2.604551e+00 -2.256568e+01 -1.543008e+01       0.000000   \n",
              "25%   -3.171451e-01 -3.269839e-01 -7.083953e-02 -5.295979e-02       5.600000   \n",
              "50%    1.659350e-02 -5.213911e-02  1.342146e-03  1.124383e-02      22.000000   \n",
              "75%    3.507156e-01  2.409522e-01  9.104512e-02  7.827995e-02      77.165000   \n",
              "max    7.519589e+00  3.517346e+00  3.161220e+01  3.384781e+01   25691.160000   \n",
              "\n",
              "               Class  \n",
              "count  284807.000000  \n",
              "mean        0.001727  \n",
              "std         0.041527  \n",
              "min         0.000000  \n",
              "25%         0.000000  \n",
              "50%         0.000000  \n",
              "75%         0.000000  \n",
              "max         1.000000  \n",
              "\n",
              "[8 rows x 31 columns]"
            ],
            "text/html": [
              "\n",
              "  <div id=\"df-0149d568-56c3-4de8-bdcc-3f61b342696c\">\n",
              "    <div class=\"colab-df-container\">\n",
              "      <div>\n",
              "<style scoped>\n",
              "    .dataframe tbody tr th:only-of-type {\n",
              "        vertical-align: middle;\n",
              "    }\n",
              "\n",
              "    .dataframe tbody tr th {\n",
              "        vertical-align: top;\n",
              "    }\n",
              "\n",
              "    .dataframe thead th {\n",
              "        text-align: right;\n",
              "    }\n",
              "</style>\n",
              "<table border=\"1\" class=\"dataframe\">\n",
              "  <thead>\n",
              "    <tr style=\"text-align: right;\">\n",
              "      <th></th>\n",
              "      <th>Time</th>\n",
              "      <th>V1</th>\n",
              "      <th>V2</th>\n",
              "      <th>V3</th>\n",
              "      <th>V4</th>\n",
              "      <th>V5</th>\n",
              "      <th>V6</th>\n",
              "      <th>V7</th>\n",
              "      <th>V8</th>\n",
              "      <th>V9</th>\n",
              "      <th>...</th>\n",
              "      <th>V21</th>\n",
              "      <th>V22</th>\n",
              "      <th>V23</th>\n",
              "      <th>V24</th>\n",
              "      <th>V25</th>\n",
              "      <th>V26</th>\n",
              "      <th>V27</th>\n",
              "      <th>V28</th>\n",
              "      <th>Amount</th>\n",
              "      <th>Class</th>\n",
              "    </tr>\n",
              "  </thead>\n",
              "  <tbody>\n",
              "    <tr>\n",
              "      <th>count</th>\n",
              "      <td>284807.000000</td>\n",
              "      <td>2.848070e+05</td>\n",
              "      <td>2.848070e+05</td>\n",
              "      <td>2.848070e+05</td>\n",
              "      <td>2.848070e+05</td>\n",
              "      <td>2.848070e+05</td>\n",
              "      <td>2.848070e+05</td>\n",
              "      <td>2.848070e+05</td>\n",
              "      <td>2.848070e+05</td>\n",
              "      <td>2.848070e+05</td>\n",
              "      <td>...</td>\n",
              "      <td>2.848070e+05</td>\n",
              "      <td>2.848070e+05</td>\n",
              "      <td>2.848070e+05</td>\n",
              "      <td>2.848070e+05</td>\n",
              "      <td>2.848070e+05</td>\n",
              "      <td>2.848070e+05</td>\n",
              "      <td>2.848070e+05</td>\n",
              "      <td>2.848070e+05</td>\n",
              "      <td>284807.000000</td>\n",
              "      <td>284807.000000</td>\n",
              "    </tr>\n",
              "    <tr>\n",
              "      <th>mean</th>\n",
              "      <td>94813.859575</td>\n",
              "      <td>3.918649e-15</td>\n",
              "      <td>5.682686e-16</td>\n",
              "      <td>-8.761736e-15</td>\n",
              "      <td>2.811118e-15</td>\n",
              "      <td>-1.552103e-15</td>\n",
              "      <td>2.040130e-15</td>\n",
              "      <td>-1.698953e-15</td>\n",
              "      <td>-1.893285e-16</td>\n",
              "      <td>-3.147640e-15</td>\n",
              "      <td>...</td>\n",
              "      <td>1.473120e-16</td>\n",
              "      <td>8.042109e-16</td>\n",
              "      <td>5.282512e-16</td>\n",
              "      <td>4.456271e-15</td>\n",
              "      <td>1.426896e-15</td>\n",
              "      <td>1.701640e-15</td>\n",
              "      <td>-3.662252e-16</td>\n",
              "      <td>-1.217809e-16</td>\n",
              "      <td>88.349619</td>\n",
              "      <td>0.001727</td>\n",
              "    </tr>\n",
              "    <tr>\n",
              "      <th>std</th>\n",
              "      <td>47488.145955</td>\n",
              "      <td>1.958696e+00</td>\n",
              "      <td>1.651309e+00</td>\n",
              "      <td>1.516255e+00</td>\n",
              "      <td>1.415869e+00</td>\n",
              "      <td>1.380247e+00</td>\n",
              "      <td>1.332271e+00</td>\n",
              "      <td>1.237094e+00</td>\n",
              "      <td>1.194353e+00</td>\n",
              "      <td>1.098632e+00</td>\n",
              "      <td>...</td>\n",
              "      <td>7.345240e-01</td>\n",
              "      <td>7.257016e-01</td>\n",
              "      <td>6.244603e-01</td>\n",
              "      <td>6.056471e-01</td>\n",
              "      <td>5.212781e-01</td>\n",
              "      <td>4.822270e-01</td>\n",
              "      <td>4.036325e-01</td>\n",
              "      <td>3.300833e-01</td>\n",
              "      <td>250.120109</td>\n",
              "      <td>0.041527</td>\n",
              "    </tr>\n",
              "    <tr>\n",
              "      <th>min</th>\n",
              "      <td>0.000000</td>\n",
              "      <td>-5.640751e+01</td>\n",
              "      <td>-7.271573e+01</td>\n",
              "      <td>-4.832559e+01</td>\n",
              "      <td>-5.683171e+00</td>\n",
              "      <td>-1.137433e+02</td>\n",
              "      <td>-2.616051e+01</td>\n",
              "      <td>-4.355724e+01</td>\n",
              "      <td>-7.321672e+01</td>\n",
              "      <td>-1.343407e+01</td>\n",
              "      <td>...</td>\n",
              "      <td>-3.483038e+01</td>\n",
              "      <td>-1.093314e+01</td>\n",
              "      <td>-4.480774e+01</td>\n",
              "      <td>-2.836627e+00</td>\n",
              "      <td>-1.029540e+01</td>\n",
              "      <td>-2.604551e+00</td>\n",
              "      <td>-2.256568e+01</td>\n",
              "      <td>-1.543008e+01</td>\n",
              "      <td>0.000000</td>\n",
              "      <td>0.000000</td>\n",
              "    </tr>\n",
              "    <tr>\n",
              "      <th>25%</th>\n",
              "      <td>54201.500000</td>\n",
              "      <td>-9.203734e-01</td>\n",
              "      <td>-5.985499e-01</td>\n",
              "      <td>-8.903648e-01</td>\n",
              "      <td>-8.486401e-01</td>\n",
              "      <td>-6.915971e-01</td>\n",
              "      <td>-7.682956e-01</td>\n",
              "      <td>-5.540759e-01</td>\n",
              "      <td>-2.086297e-01</td>\n",
              "      <td>-6.430976e-01</td>\n",
              "      <td>...</td>\n",
              "      <td>-2.283949e-01</td>\n",
              "      <td>-5.423504e-01</td>\n",
              "      <td>-1.618463e-01</td>\n",
              "      <td>-3.545861e-01</td>\n",
              "      <td>-3.171451e-01</td>\n",
              "      <td>-3.269839e-01</td>\n",
              "      <td>-7.083953e-02</td>\n",
              "      <td>-5.295979e-02</td>\n",
              "      <td>5.600000</td>\n",
              "      <td>0.000000</td>\n",
              "    </tr>\n",
              "    <tr>\n",
              "      <th>50%</th>\n",
              "      <td>84692.000000</td>\n",
              "      <td>1.810880e-02</td>\n",
              "      <td>6.548556e-02</td>\n",
              "      <td>1.798463e-01</td>\n",
              "      <td>-1.984653e-02</td>\n",
              "      <td>-5.433583e-02</td>\n",
              "      <td>-2.741871e-01</td>\n",
              "      <td>4.010308e-02</td>\n",
              "      <td>2.235804e-02</td>\n",
              "      <td>-5.142873e-02</td>\n",
              "      <td>...</td>\n",
              "      <td>-2.945017e-02</td>\n",
              "      <td>6.781943e-03</td>\n",
              "      <td>-1.119293e-02</td>\n",
              "      <td>4.097606e-02</td>\n",
              "      <td>1.659350e-02</td>\n",
              "      <td>-5.213911e-02</td>\n",
              "      <td>1.342146e-03</td>\n",
              "      <td>1.124383e-02</td>\n",
              "      <td>22.000000</td>\n",
              "      <td>0.000000</td>\n",
              "    </tr>\n",
              "    <tr>\n",
              "      <th>75%</th>\n",
              "      <td>139320.500000</td>\n",
              "      <td>1.315642e+00</td>\n",
              "      <td>8.037239e-01</td>\n",
              "      <td>1.027196e+00</td>\n",
              "      <td>7.433413e-01</td>\n",
              "      <td>6.119264e-01</td>\n",
              "      <td>3.985649e-01</td>\n",
              "      <td>5.704361e-01</td>\n",
              "      <td>3.273459e-01</td>\n",
              "      <td>5.971390e-01</td>\n",
              "      <td>...</td>\n",
              "      <td>1.863772e-01</td>\n",
              "      <td>5.285536e-01</td>\n",
              "      <td>1.476421e-01</td>\n",
              "      <td>4.395266e-01</td>\n",
              "      <td>3.507156e-01</td>\n",
              "      <td>2.409522e-01</td>\n",
              "      <td>9.104512e-02</td>\n",
              "      <td>7.827995e-02</td>\n",
              "      <td>77.165000</td>\n",
              "      <td>0.000000</td>\n",
              "    </tr>\n",
              "    <tr>\n",
              "      <th>max</th>\n",
              "      <td>172792.000000</td>\n",
              "      <td>2.454930e+00</td>\n",
              "      <td>2.205773e+01</td>\n",
              "      <td>9.382558e+00</td>\n",
              "      <td>1.687534e+01</td>\n",
              "      <td>3.480167e+01</td>\n",
              "      <td>7.330163e+01</td>\n",
              "      <td>1.205895e+02</td>\n",
              "      <td>2.000721e+01</td>\n",
              "      <td>1.559499e+01</td>\n",
              "      <td>...</td>\n",
              "      <td>2.720284e+01</td>\n",
              "      <td>1.050309e+01</td>\n",
              "      <td>2.252841e+01</td>\n",
              "      <td>4.584549e+00</td>\n",
              "      <td>7.519589e+00</td>\n",
              "      <td>3.517346e+00</td>\n",
              "      <td>3.161220e+01</td>\n",
              "      <td>3.384781e+01</td>\n",
              "      <td>25691.160000</td>\n",
              "      <td>1.000000</td>\n",
              "    </tr>\n",
              "  </tbody>\n",
              "</table>\n",
              "<p>8 rows × 31 columns</p>\n",
              "</div>\n",
              "      <button class=\"colab-df-convert\" onclick=\"convertToInteractive('df-0149d568-56c3-4de8-bdcc-3f61b342696c')\"\n",
              "              title=\"Convert this dataframe to an interactive table.\"\n",
              "              style=\"display:none;\">\n",
              "        \n",
              "  <svg xmlns=\"http://www.w3.org/2000/svg\" height=\"24px\"viewBox=\"0 0 24 24\"\n",
              "       width=\"24px\">\n",
              "    <path d=\"M0 0h24v24H0V0z\" fill=\"none\"/>\n",
              "    <path d=\"M18.56 5.44l.94 2.06.94-2.06 2.06-.94-2.06-.94-.94-2.06-.94 2.06-2.06.94zm-11 1L8.5 8.5l.94-2.06 2.06-.94-2.06-.94L8.5 2.5l-.94 2.06-2.06.94zm10 10l.94 2.06.94-2.06 2.06-.94-2.06-.94-.94-2.06-.94 2.06-2.06.94z\"/><path d=\"M17.41 7.96l-1.37-1.37c-.4-.4-.92-.59-1.43-.59-.52 0-1.04.2-1.43.59L10.3 9.45l-7.72 7.72c-.78.78-.78 2.05 0 2.83L4 21.41c.39.39.9.59 1.41.59.51 0 1.02-.2 1.41-.59l7.78-7.78 2.81-2.81c.8-.78.8-2.07 0-2.86zM5.41 20L4 18.59l7.72-7.72 1.47 1.35L5.41 20z\"/>\n",
              "  </svg>\n",
              "      </button>\n",
              "      \n",
              "  <style>\n",
              "    .colab-df-container {\n",
              "      display:flex;\n",
              "      flex-wrap:wrap;\n",
              "      gap: 12px;\n",
              "    }\n",
              "\n",
              "    .colab-df-convert {\n",
              "      background-color: #E8F0FE;\n",
              "      border: none;\n",
              "      border-radius: 50%;\n",
              "      cursor: pointer;\n",
              "      display: none;\n",
              "      fill: #1967D2;\n",
              "      height: 32px;\n",
              "      padding: 0 0 0 0;\n",
              "      width: 32px;\n",
              "    }\n",
              "\n",
              "    .colab-df-convert:hover {\n",
              "      background-color: #E2EBFA;\n",
              "      box-shadow: 0px 1px 2px rgba(60, 64, 67, 0.3), 0px 1px 3px 1px rgba(60, 64, 67, 0.15);\n",
              "      fill: #174EA6;\n",
              "    }\n",
              "\n",
              "    [theme=dark] .colab-df-convert {\n",
              "      background-color: #3B4455;\n",
              "      fill: #D2E3FC;\n",
              "    }\n",
              "\n",
              "    [theme=dark] .colab-df-convert:hover {\n",
              "      background-color: #434B5C;\n",
              "      box-shadow: 0px 1px 3px 1px rgba(0, 0, 0, 0.15);\n",
              "      filter: drop-shadow(0px 1px 2px rgba(0, 0, 0, 0.3));\n",
              "      fill: #FFFFFF;\n",
              "    }\n",
              "  </style>\n",
              "\n",
              "      <script>\n",
              "        const buttonEl =\n",
              "          document.querySelector('#df-0149d568-56c3-4de8-bdcc-3f61b342696c button.colab-df-convert');\n",
              "        buttonEl.style.display =\n",
              "          google.colab.kernel.accessAllowed ? 'block' : 'none';\n",
              "\n",
              "        async function convertToInteractive(key) {\n",
              "          const element = document.querySelector('#df-0149d568-56c3-4de8-bdcc-3f61b342696c');\n",
              "          const dataTable =\n",
              "            await google.colab.kernel.invokeFunction('convertToInteractive',\n",
              "                                                     [key], {});\n",
              "          if (!dataTable) return;\n",
              "\n",
              "          const docLinkHtml = 'Like what you see? Visit the ' +\n",
              "            '<a target=\"_blank\" href=https://colab.research.google.com/notebooks/data_table.ipynb>data table notebook</a>'\n",
              "            + ' to learn more about interactive tables.';\n",
              "          element.innerHTML = '';\n",
              "          dataTable['output_type'] = 'display_data';\n",
              "          await google.colab.output.renderOutput(dataTable, element);\n",
              "          const docLink = document.createElement('div');\n",
              "          docLink.innerHTML = docLinkHtml;\n",
              "          element.appendChild(docLink);\n",
              "        }\n",
              "      </script>\n",
              "    </div>\n",
              "  </div>\n",
              "  "
            ]
          },
          "metadata": {},
          "execution_count": 7
        }
      ]
    },
    {
      "cell_type": "markdown",
      "source": [
        "Em geral são poucas as observações relacionadas aos dados. Todos os campos de `V1`até `V28` possuem valores bem distribuídos entre si, pois passarão pelo processo de Principal Component Analysis (PCA) que reduziu a dimensionalidade dos valores e, consequentemente, os centralizou mais. Em relação ao campo `Amount`, entretanto, é possível perceber a disparidade do valor máximo em relação ao 3º quartil, o que é um indicativo de existência de outliers. O histograma abaixo do campo `Amount` reforça isso."
      ],
      "metadata": {
        "id": "-VqwpkjdYSyt"
      }
    },
    {
      "cell_type": "code",
      "source": [
        "#Cores e rótulos do eixo y\n",
        "wine = '#A8031F'\n",
        "forest = '#00A820'\n",
        "cyan = '#00DEF5'\n",
        "gray_title = '#3C445E'\n",
        "gray_subtitle = '#A1A3AB'\n",
        "\n",
        "ya = ['0', '50K', '100K', '150K', '200K', '250K']\n",
        "yt = ['0', '5K', '10K', '15K', '20K', '25K', '30K', '35K', '40K']\n",
        "\n",
        "#Criação dos gráficos\n",
        "fig, (ax1, ax2) = plt.subplots(nrows=1, ncols=2, figsize=(14, 6))\n",
        "\n",
        "#Histograma de \"Amount\"\n",
        "df['Amount'].plot(kind='hist', bins=10, color=wine, ax=ax1)\n",
        "\n",
        "ax1.text(x=-5.5, y=360000, s='Histograma do campo \"Amount\"', fontsize=16, fontweight='bold', \n",
        "        color=gray_title)\n",
        "ax1.text(x=-5.5, y=310000, s='Gráfico de histograma do campo \"Amount\" da fonte de dados.\\nEle ajuda a observar a quantidade de casos com certo\\nvalor dentro do campo em questão.', \n",
        "        fontsize=12, color=gray_subtitle)\n",
        "\n",
        "#Configuração de aparência (Histograma \"Amount\")\n",
        "ax1.spines['top'].set_visible(False)\n",
        "ax1.spines['right'].set_visible(False)\n",
        "\n",
        "ax1.set_ylabel('')\n",
        "ax1.set_yticklabels(ya)\n",
        "\n",
        "for i in ax1.patches:\n",
        "  ax1.text(i.get_x() + i.get_width() / 2, i.get_height() + 4000,\n",
        "          '{:,}'.format(int(i.get_height())).replace(',','.'),\n",
        "          ha = 'center', \n",
        "          color = '#4B5475', \n",
        "          fontsize = 10)\n",
        "\n",
        "#Histograma de \"Time\"\n",
        "df['Time'].plot(kind='hist', bins=10, color=forest, ax=ax2)\n",
        "\n",
        "ax2.text(x=-2.2, y=51550, s='Histograma do campo \"Time\"', fontsize=16, fontweight='bold', \n",
        "        color=gray_title)\n",
        "ax2.text(x=-2.2, y=44500, s='Gráfico de histograma do campo \"Time\" da fonte de dados.\\nEle ajuda a observar a quantidade de transações feitas com\\nbase nos intervalos de tempo entre eles.', \n",
        "        fontsize=12, color=gray_subtitle)\n",
        "\n",
        "#Configuração de aparência (Histograma \"Time\")\n",
        "ax2.spines['top'].set_visible(False)\n",
        "ax2.spines['right'].set_visible(False)\n",
        "\n",
        "ax2.set_ylabel('')\n",
        "ax2.set_yticklabels(yt)\n",
        "\n",
        "for i in ax2.patches:\n",
        "  ax2.text(i.get_x() + i.get_width() / 2, i.get_height() + 900,\n",
        "          '{:,}'.format(int(i.get_height())).replace(',','.'),\n",
        "          ha = 'center', \n",
        "          color = '#4B5475', \n",
        "          fontsize = 10)\n",
        "\n",
        "plt.show()"
      ],
      "metadata": {
        "colab": {
          "base_uri": "https://localhost:8080/",
          "height": 453
        },
        "id": "m1qNT01kiryB",
        "outputId": "a7419ba7-376d-4b87-9a4d-27f3f6aecfb7"
      },
      "execution_count": 8,
      "outputs": [
        {
          "output_type": "display_data",
          "data": {
            "text/plain": [
              "<Figure size 1008x432 with 2 Axes>"
            ],
            "image/png": "[encoded data removed]"
          },
          "metadata": {
            "needs_background": "light"
          }
        }
      ]
    },
    {
      "cell_type": "markdown",
      "source": [
        "Como pode ser observado, quase todas entradas da base de dados em questão possuem valores em `Amount` que são menores que **20**. Se somados todos os casos em que `Amount` possui valor maior que **20**, chega-se a um total de **52 casos**, um número bastante ínfimo em comparação a maioria da distribuição. Já no histograma de `Time` a distribuição dos dados se apresenta mais equilibrada de forma que os casos em geral estão bem próximos do valore medianos de 0.  \n",
        "\n",
        "Assim, pode-se concluir que os valores presentes no campo `Amount` possuem outliers em sua distribuição. Entretanto, como estes casos podem estar relacionados a casos de fraude não é de interesse do estudo remover estes valores.\n",
        "\n"
      ],
      "metadata": {
        "id": "Ld5AGzt4zGbN"
      }
    },
    {
      "cell_type": "markdown",
      "source": [
        "Além das visões acima, como o intuito do trabalho é identificar e prever com um certo grau de precisão os casos que são e irão ser de fraude, é interessante investigar como estão distribuidos os valores de `Amount` e `Time` quando separados os casos em que houve fraude (1) dos casos em que não houve fraude (2)."
      ],
      "metadata": {
        "id": "p8RWxv_vBmSC"
      }
    },
    {
      "cell_type": "code",
      "source": [
        "#Cores\n",
        "orange = '#F5711F'\n",
        "blue = '#00A4A8'\n",
        "\n",
        "#Histograma Time\n",
        "fig, (ax1, ax2) = plt.subplots(ncols=1, nrows=2, figsize=(12, 8))\n",
        "\n",
        "ax1.hist(df['Time'][df['Class'] == 0] , bins=10, color=blue)\n",
        "\n",
        "#Configuração de aparência (Histograma SEM)\n",
        "ax1.text(x=-2.18, y=50000, s='Histograma do campo \"Time\" SEM casos de fraude', fontsize=16, fontweight='bold', \n",
        "        color=gray_title)\n",
        "ax1.text(x=-2.18, y=45000, s='O gráfico detalha como estão distribuidos os casos sem fraude por intervalor de tempo', \n",
        "        fontsize=12, color=gray_subtitle)\n",
        "\n",
        "ax1.spines['top'].set_visible(False)\n",
        "ax1.spines['right'].set_visible(False)\n",
        "\n",
        "ax1.set_ylabel('')\n",
        "ax1.set_yticklabels(['0', '5K', '10K', '15K', '20K', '25K', '30K', '35K', '40K'])\n",
        "\n",
        "for i in ax1.patches:\n",
        "  ax1.text(i.get_x() + i.get_width() / 2, i.get_height()+700,\n",
        "          '{:,}'.format(int(i.get_height())).replace(',','.'),\n",
        "          ha = 'center', \n",
        "          color = '#4B5475', \n",
        "          fontsize = 12)\n",
        "\n",
        "#Histograma COM\n",
        "ax2.hist(df['Time'][df['Class'] == 1] , bins=10, color=orange)\n",
        "\n",
        "#Configuração de aparência (Histograma COM)\n",
        "ax2.text(x=-2.17, y=98, s='Histograma do campo \"Time\" COM casos de fraude', fontsize=16, fontweight='bold', \n",
        "        color=gray_title)\n",
        "ax2.text(x=-2.17, y=88, s='O gráfico detalha como estão distribuidos os casos sem fraude por intervalor de tempo', \n",
        "        fontsize=12, color=gray_subtitle)\n",
        "ax2.spines['top'].set_visible(False)\n",
        "ax2.spines['right'].set_visible(False)\n",
        "\n",
        "ax2.set_ylabel('')\n",
        "\n",
        "for i in ax2.patches:\n",
        "  ax2.text(i.get_x() + i.get_width() / 2, i.get_height()+1,\n",
        "          '{:,}'.format(int(i.get_height())).replace(',','.'),\n",
        "          ha = 'center', \n",
        "          color = '#4B5475', \n",
        "          fontsize = 12)\n",
        "\n",
        "plt.tight_layout()"
      ],
      "metadata": {
        "id": "AUzfvAevJGcb",
        "colab": {
          "base_uri": "https://localhost:8080/",
          "height": 587
        },
        "outputId": "2b43abdf-9367-4d8a-dbce-84beb8918aac"
      },
      "execution_count": 9,
      "outputs": [
        {
          "output_type": "display_data",
          "data": {
            "text/plain": [
              "<Figure size 864x576 with 2 Axes>"
            ],
            "image/png": "[encoded data removed]"
          },
          "metadata": {
            "needs_background": "light"
          }
        }
      ]
    },
    {
      "cell_type": "code",
      "source": [
        "#Histograma Amount\n",
        "fig, (ax1, ax2) = plt.subplots(ncols=1, nrows=2, figsize=(12, 8))\n",
        "\n",
        "#Configuração de aparência (Histograma SEM)\n",
        "ax1.hist(df['Amount'][df['Class'] == 0] , bins=10, color=blue);\n",
        "\n",
        "ax1.text(x=-5.6, y=340000, s='Histograma do campo \"Amount\" SEM casos de fraude', fontsize=16, fontweight='bold', \n",
        "        color=gray_title)\n",
        "ax1.text(x=-5.6, y=310000, s='O gráfico detalha como estão distribuidos os casos sem fraude por valor da transferência', \n",
        "        fontsize=12, color=gray_subtitle)\n",
        "\n",
        "ax1.spines['top'].set_visible(False)\n",
        "ax1.spines['right'].set_visible(False)\n",
        "\n",
        "ax1.set_ylabel('')\n",
        "ax1.set_yticklabels(['0', '50K', '100K', '150K', '200K', '250K'])\n",
        "\n",
        "for i in ax1.patches:\n",
        "  ax1.text(i.get_x() + i.get_width() / 2, i.get_height()+4000,\n",
        "          '{:,}'.format(int(i.get_height())).replace(',','.'),\n",
        "          ha = 'center', \n",
        "          color = '#4B5475', \n",
        "          fontsize = 12)\n",
        "\n",
        "#Configuração de aparência (Histograma COM)\n",
        "ax2.hist(df['Amount'][df['Class'] == 1] , bins=10, color=orange)\n",
        "\n",
        "ax2.text(x=-0.8, y=490, s='Histograma do campo \"Amount\" COM casos de fraude', fontsize=16, fontweight='bold', \n",
        "        color=gray_title)\n",
        "ax2.text(x=-0.8, y=450, s='O gráfico detalha como estão distribuidos os casos com fraude por valor da transferência', \n",
        "        fontsize=12, color=gray_subtitle)\n",
        "\n",
        "ax2.spines['top'].set_visible(False)\n",
        "ax2.spines['right'].set_visible(False)\n",
        "\n",
        "ax2.set_ylabel('')\n",
        "\n",
        "for i in ax2.patches:\n",
        "  ax2.text(i.get_x() + i.get_width() / 2, i.get_height()+5,\n",
        "          '{:,}'.format(int(i.get_height())).replace(',','.'),\n",
        "          ha = 'center', \n",
        "          color = '#4B5475', \n",
        "          fontsize = 12)\n",
        "\n",
        "plt.tight_layout()"
      ],
      "metadata": {
        "id": "1R0anjkeJAVA",
        "colab": {
          "base_uri": "https://localhost:8080/",
          "height": 588
        },
        "outputId": "0df7fbe1-4e6d-4a9f-cfe0-c1311086e524"
      },
      "execution_count": 10,
      "outputs": [
        {
          "output_type": "display_data",
          "data": {
            "text/plain": [
              "<Figure size 864x576 with 2 Axes>"
            ],
            "image/png": "[encoded data removed]"
          },
          "metadata": {
            "needs_background": "light"
          }
        }
      ]
    },
    {
      "cell_type": "markdown",
      "source": [
        "Tanto nos histogramas do campo `Time` quanto nos histogramas do campo `Amount` é possível perceber que a distribuição entre os casos COM fraude e SEM fraude são bem parecidos de maneira que continua bastante evidente o acumulo de transações no grupo entre 0 e 20 no campo `Amount`. Assim, mantem-se a conclusão de que o respectivo campo possui outliers. \n",
        "\n",
        "Para exibir com mais destaques estes outliers o boxplot abaixo foi construído."
      ],
      "metadata": {
        "id": "f6krkw3DgDT6"
      }
    },
    {
      "cell_type": "code",
      "source": [
        "#Boxplot de amount\n",
        "fig, ax = plt.subplots(figsize=(12, 4))\n",
        "\n",
        "df.loc[df['Class'] == 1].boxplot(['Amount'], vert=False, ax=ax)\n",
        "\n",
        "plt.tight_layout()"
      ],
      "metadata": {
        "colab": {
          "base_uri": "https://localhost:8080/",
          "height": 297
        },
        "id": "oFiSvfDvAUoi",
        "outputId": "e6912b21-eab6-4026-86a9-c0303b50517e"
      },
      "execution_count": 11,
      "outputs": [
        {
          "output_type": "display_data",
          "data": {
            "text/plain": [
              "<Figure size 864x288 with 1 Axes>"
            ],
            "image/png": "[encoded data removed]"
          },
          "metadata": {
            "needs_background": "light"
          }
        }
      ]
    },
    {
      "cell_type": "markdown",
      "source": [
        "Apesar de constatados os outliers tanto nos casos sem fraude quanto nos casos com fraude, ainda não é seguro afirmar que os casos pertencentes ao grupo de outliers não possuem nenhuma conexão com a ocorrência de fraudes. Portanto, os valores serão mantidos na análise.\n",
        "\n",
        "Feita a análise da distribuição dos valores nos campos `Amount` e `Time`, resta verificar como é o comportamento dos demais campos (`V1` até `V28`) quando não há ocorrência de fraude (0) e quando há ocorrência de fraude (1). Outra forma de examinar essa diferença é através de um gráfico de densidade estimada de Kernel (KDE) que exibe os valores da distribuição de forma contínua e facilita a visualização de diferenças. \n",
        "\n",
        "Ao observar o formato das curvas de densidade, quanto mais diferentes elas forem, mais o comportamento dos casos de fraude X não fraude são distintos, o que valida o campo como útil para o modelo preditivo."
      ],
      "metadata": {
        "id": "HXgShHb4jdPD"
      }
    },
    {
      "cell_type": "code",
      "source": [
        "#Kernel Density Estimate de todos os atributos da base para identificar os atributos mais distintos\n",
        "\n",
        "column_names = df.drop(['Class','Amount','Time'], axis=1).columns #remove as colunas que não são nomeadas\n",
        "num_plots = len(column_names) #define a quantidade de gráficos\n",
        "df_class_0 = df[df['Class'] == 0] #define os dados do gráfico 1\n",
        "df_class_1 = df[df['Class'] == 1] #define os dados do gráfico 2\n",
        "\n",
        "fig, ax = plt.subplots(nrows=7, ncols=4, figsize=(18, 18)) #cria a figura e espaço para a plotagem dos 28 graficos\n",
        "fig.subplots_adjust(hspace=1, wspace=1) #ajusta o espaço entre os 28 gráficos\n",
        "\n",
        "idx = 0 #contador\n",
        "for col in column_names:\n",
        "  idx += 1 #\n",
        "  plt.subplot(7, 4, idx) #Define o espaçp onde cada gráfico será plotado\n",
        "  sns.kdeplot(df_class_0[col], label=\"Class 0\", shade=True, color=blue) #cria o gráfico de onda utilizando os dados de Vx da Classe 0\n",
        "  sns.kdeplot(df_class_1[col], label=\"Class 1\", shade=True, color=orange) #cria o gráfico de onda utilizando os dados de Vx da Classe 1\n",
        "  plt.title(col, fontsize=10) #\n",
        "plt.tight_layout() "
      ],
      "metadata": {
        "id": "sTpvyiYiFFs3",
        "colab": {
          "base_uri": "https://localhost:8080/",
          "height": 1000
        },
        "outputId": "9700e07e-e0a5-4fd0-b9fb-020930e808ce"
      },
      "execution_count": 12,
      "outputs": [
        {
          "output_type": "display_data",
          "data": {
            "text/plain": [
              "<Figure size 1296x1296 with 28 Axes>"
            ],
            "image/png": "[encoded data removed]"
          },
          "metadata": {
            "needs_background": "light"
          }
        }
      ]
    },
    {
      "cell_type": "markdown",
      "source": [
        "Por meio das visões acima, é bem mais fácil identificar as variáveis que possuem distribuições iguais do campo `Class` quando este é igual a 0 (sem fraude) em comparação quando este é igual a 1 (com fraude). Ao observar as variáveis `V13`, `V15`, `V22`, `V24`, `V25`, `V26` e `V28`, percebe-se que elas possuem distribuições de `Class` 0 e 1 parecidas enquanto os demais campos tem distribuições leve ou fortemente distintas. \n",
        "\n",
        "Como o intuito do modelo é identificar com mais precisão os casos de fraude (1) dos casos de não fraude (0), os campos com distribuições distintas têm a capacidade de contribuir bem mais para o modelo. Dito isto, o próximo ponto que necessariamente deve ser analisado para garantir a efetividade do modelo é garantir o balanceamento dos dados."
      ],
      "metadata": {
        "id": "ZxviePgPudq9"
      }
    },
    {
      "cell_type": "markdown",
      "source": [
        "##4. Criação do modelo preditivo\n",
        "\n",
        "Após feita toda a análise exploratória do conjunto de dados e verificados o formato dos dados, existência de valores nulos e/ou outliers, seguem as etapas para criação do modelo preditivo.\n",
        "\n",
        "A configuração de um modelo preditivo engloba certo conjunto de etapas:\n",
        "* Verificar o balanceamento dos dados (caso desequilibrado, é necessária a aplicação de alguma técnica de balanceamento)\n",
        "* Padronização do dataset: Necessária para garantir que dados com escalas diferentes (ex.: idade (1-100) e valor transferido (1.000-1.000.000)) irão contribuir de forma equânime no modelo, ou seja, sem diferença de pesos.\n",
        "* Escolha de técnica de Machine Learning a ser aplicada\n",
        "* Definição dos hyperparâmetros\n",
        "* Separação dos dados em grupos de treino e de teste\n",
        "* Calcular o Fit e o Predict do modelo\n",
        "* Examinar a qualidade do modelo desenhado"
      ],
      "metadata": {
        "id": "wsd_V0bLCma2"
      }
    },
    {
      "cell_type": "markdown",
      "source": [
        "###4.1 Balanceamento e Padronização dos dados\n",
        "\n",
        "Um importante requisito para garantir a efetividade de um modelo supervisionado de Machine Learning é a distribuição balanceada entre casos positivos e negativos do campo que se deseja prever. No presente estudo, deseja-se prever a ocorrência de fraudes de cartão, cujas ocorrências estão registradas no campo `Class`, onde \"0\" significa que não houver fraude e \"1\" significa que houve fraude. Assim, é necessário verificar a quantidade de casos registrados de fraude e não fraude e determinar se há uma distribuição balanceada.  "
      ],
      "metadata": {
        "id": "id9F5DhC1CyT"
      }
    },
    {
      "cell_type": "code",
      "source": [
        "#balanceamento dos dados\n",
        "\n",
        "case_1 = df['Class'][df['Class'] == 1].count() #qtd. de casos com fraude\n",
        "case_0 = df['Class'][df['Class'] == 0].count() #qtd. de casos sem fraude\n",
        "\n",
        "#gráfico de barras\n",
        "orange = '#F5711F'\n",
        "blue = '#00A4A8'\n",
        "\n",
        "y = ['0', '50K', '100K', '150K', '200K', '250K']\n",
        "\n",
        "fig, ax = plt.subplots(figsize=(8,5))\n",
        "\n",
        "ax.bar('0', case_0, color = blue)\n",
        "ax.bar('1', case_1, color = orange)\n",
        "\n",
        "ax.text(x=-0.48, y=390000, s='Distribuição dos dados no campo \"Class\"', \n",
        "        fontsize=16, fontweight='bold', color=gray_title)\n",
        "ax.text(x=-0.48, y=325000, s='Gráfico de barras do campo \"Class\" da fonte de dados.\\nEle ajuda a comparar o nº de casos onde houve fraude vs. o nº de casos onde\\nnão houve fraude.', \n",
        "        fontsize=12, color=gray_subtitle)\n",
        "\n",
        "#mudança na aparência\n",
        "ax.spines['top'].set_visible(False)\n",
        "ax.spines['right'].set_visible(False)\n",
        "\n",
        "ax.set_yticklabels(y)\n",
        "\n",
        "for i in ax.patches:\n",
        "  ax.text(i.get_x() + i.get_width() / 2, i.get_height() + 4000,\n",
        "          '{:,}'.format(int(i.get_height())).replace(',','.'),\n",
        "          ha = 'center', \n",
        "          color = '#4B5475', \n",
        "          fontsize = 14)\n",
        "\n",
        "plt.tight_layout()"
      ],
      "metadata": {
        "colab": {
          "base_uri": "https://localhost:8080/",
          "height": 355
        },
        "id": "Pg7apqUFC7Qc",
        "outputId": "344d3d27-8545-4353-c107-06764a3afea7"
      },
      "execution_count": 13,
      "outputs": [
        {
          "output_type": "display_data",
          "data": {
            "text/plain": [
              "<Figure size 576x360 with 1 Axes>"
            ],
            "image/png": "[encoded data removed]"
          },
          "metadata": {
            "needs_background": "light"
          }
        }
      ]
    },
    {
      "cell_type": "markdown",
      "source": [
        "O gráfico acima deixa bem evidente o desbalanceamento que existe entre os casos onde **houve fraude** contra aqueles em que **não houve fraude**. Os casos de fraude representam menos **0,2%** do total de dados da fonte utilizada. Para garantir que o modelo de Machine Learning consiga prever com sucesso os casos de fraude, é necessário que seja feito um rebalanceamento dos dados dos valores \"1\" (com fraude) ou dos valores \"0\" (sem fraude). Apesar de serem poucos os casos, é importante frisar que eles representam uma perda de mais de **400 bilhões de dólares** na indústria como um todo.\n",
        "\n",
        "Para lidar com o problema de balanceamento de dados, existem algumas técnicas em Machine Learning que solucionam esta questão. As duas principais técnicas são Oversampling e Undersampling."
      ],
      "metadata": {
        "id": "KE01HuvR9v5M"
      }
    },
    {
      "cell_type": "markdown",
      "source": [
        "###4.1.1 Undersampling\n",
        "\n",
        "De forma resumida, a técnica de undersampling busca equilibrar o cojunto de dados através do decréscimo de elementos do grupo com mais entradas de informação. Tal procedimento envolve a remoção de elementos do conjunto maior até que o grupo maior possua a mesma quantidade que o grupo menor.\n",
        "\n",
        "Apesar de aparentar ser uma solução simples, este procedimento gera certas desvantagens. Dentre elas a principal é a eliminação de uma grande parcela do conjunto de dados maior que acaba por prejudicar a capacidade preditiva do modelo, pois menos dados desembocam em menor precisão, recall, etc."
      ],
      "metadata": {
        "id": "zcL5LGlb13nb"
      }
    },
    {
      "cell_type": "markdown",
      "source": [
        "###4.1.2 Oversampling\n",
        "\n",
        "De forma resumida, a técnica de oversampling busca equilibrar o cojunto de dados através do acréscimo de elementos ao grupo com menos entradas de informação. Tal procedimento envolve a criação de novos elementos \"sintéticos\" (pois não entradas verdadeiramente presentes na fonte de dados) até que o grupo menor possua a mesma quantidade que o grupo maior. \n",
        "\n",
        "As novas entradas criadas têm suas características baseadas no grupo com menos dados, de maneira a garantir certa fidedignidade do conjunto. Apesar disso, este procedimento gera certas desvantagens dentre elas a considerável possibilidade de criar um \"overfitting\" nos dados. \n",
        "\n",
        "\"Overfitting\" ocorre quando uma função ou modelo está altamente alinhada com um certo conjunto de dados. Apesar de parecer vantajoso, este tipo de ocorrência prejudica a capacidade preditiva de um modelo, pois o torna inflexível frente a um novo conjunto de dados."
      ],
      "metadata": {
        "id": "sKxX6ZZp13Ce"
      }
    },
    {
      "cell_type": "markdown",
      "source": [
        "Como visto, o conjunto de dados examinados é altamente desbalanceado e, portanto, a utilização de algum procedimento de balanceamento é altamente recomendado. Entretanto, antes de aplicar qualquer técnica de balanceamento, é essencial executar um processos de padronização/normalização dos dados devido ao problema de escalonamento já mencionado anteriormente."
      ],
      "metadata": {
        "id": "tpmV5zswCM53"
      }
    },
    {
      "cell_type": "code",
      "source": [
        "#Normalizar Amount e Time\n",
        "\n",
        "df_backup = df.copy() #backup para protegem os dataset em seu estado original\n",
        "\n",
        "#Padronização dos dados\n",
        "from sklearn.preprocessing import StandardScaler\n",
        "\n",
        "scaler = StandardScaler()\n",
        "df['Amount'] = scaler.fit_transform(df['Amount'].values.reshape(-1,1))\n",
        "df['Time'] = scaler.fit_transform(df['Time'].values.reshape(-1,1))"
      ],
      "metadata": {
        "id": "-k0lFiJjj94o"
      },
      "execution_count": 14,
      "outputs": []
    },
    {
      "cell_type": "markdown",
      "source": [
        "Com os campos `Amount` e `Time` padronizados pode-se prosseguir com a construção do modelo de machine learning e do balanceamento dos dados. O precedimento englobará as seguintes etapas em sequência:"
      ],
      "metadata": {
        "id": "9_Qm8_tFbNfl"
      }
    },
    {
      "cell_type": "markdown",
      "source": [
        "###4.2) **Escolha do modelo** \n",
        "\n",
        "No caso será uma Regressão Logística, ideal para modelos aprendizagem supervisionados cujos resultados a serem previstos são no formato de classicação."
      ],
      "metadata": {
        "id": "1TGvP8LujN1M"
      }
    },
    {
      "cell_type": "code",
      "source": [
        "#Escolher do modelo de Machine Learning\n",
        "from sklearn.linear_model import LogisticRegression"
      ],
      "metadata": {
        "id": "74ruYpfgtLJW"
      },
      "execution_count": 15,
      "outputs": []
    },
    {
      "cell_type": "markdown",
      "source": [
        "###4.3) **Definição dos hyperparâmetros** \n",
        "\n",
        "Configuração de todas as características específicas e exclusivas do modelo escolhido."
      ],
      "metadata": {
        "id": "q9JWusmajbUm"
      }
    },
    {
      "cell_type": "code",
      "source": [
        "#Definição dos Hyperparametros\n",
        "model = LogisticRegression('l2')"
      ],
      "metadata": {
        "id": "4n5eNSNtjXIR"
      },
      "execution_count": 16,
      "outputs": []
    },
    {
      "cell_type": "markdown",
      "source": [
        "###4.4) **Separação do Dataframe** \n",
        "\n",
        "Divisão dos dados em dois grupos: X e y. O grupo y corresponde aos dados do campo `Class`, ou seja, as fraudes que deseja-se prever. O campo X corresponde ao restante dos 30 atributos que serão utilizados como variáveis explicativas de `Class`."
      ],
      "metadata": {
        "id": "J2SEfp7QjkKA"
      }
    },
    {
      "cell_type": "code",
      "source": [
        "#Separaração do Dataframe em conjunto X e conjunto \n",
        "X = df.drop('Class', axis=1)\n",
        "y = df['Class'].values.reshape(-1,1)"
      ],
      "metadata": {
        "id": "UFjB1oMCji4D"
      },
      "execution_count": 17,
      "outputs": []
    },
    {
      "cell_type": "markdown",
      "source": [
        "###4.5.1) **Balanceamento do conjunto de dados** \n",
        "\n",
        "Escolha da técnica para o balanceamento dos dados e da técnica para gerar ou eliminar os dados do conjunto."
      ],
      "metadata": {
        "id": "NAvkAb_0jtDG"
      }
    },
    {
      "cell_type": "code",
      "source": [
        "#Balanceamento do conjunto de dados\n",
        "\n",
        "#A - Escolha da técnica de balanceamento\n",
        "!pip install imblearn -q\n",
        "from imblearn import under_sampling, over_sampling\n",
        "from imblearn.over_sampling import RandomOverSampler"
      ],
      "metadata": {
        "id": "buryY3xeRA4s"
      },
      "execution_count": 18,
      "outputs": []
    },
    {
      "cell_type": "code",
      "source": [
        "#B - Definição dos Hyperparametros\n",
        "ros = RandomOverSampler(random_state=0)\n",
        "\n",
        "#C - Separação dos dados e calculo do fit\n",
        "X_resampled, y_resampled = ros.fit_resample(X, y)\n",
        "\n",
        "#D - Plotagem do gráfico mostrando a nova distribuição\n",
        "\n",
        "bcase_1 = np.count_nonzero(y_resampled == 1) #qtd. de casos com fraude\n",
        "bcase_0 = np.count_nonzero(y_resampled == 0) #qtd. de casos sem fraude\n",
        "\n",
        "y = ['0', '50K', '100K', '150K', '200K', '250K']\n",
        "\n",
        "fig, ax = plt.subplots(figsize=(8,5))\n",
        "\n",
        "ax.bar('0', bcase_0, color = blue)\n",
        "ax.bar('1', bcase_1, color = orange)\n",
        "\n",
        "ax.text(x=-0.5, y=350000, s='Nova distribuição dos dados no campo \"Class\"', \n",
        "        fontsize=16, fontweight='bold', color=gray_title)\n",
        "ax.text(x=-0.5, y=310000, s='Após a aplicação da técnica de oversampling para balanceamento, o gráfico\\nmostra como ficou a nova distribuição dos dados', \n",
        "        fontsize=12, color=gray_subtitle)\n",
        "\n",
        "#mudança na aparência\n",
        "ax.spines['top'].set_visible(False)\n",
        "ax.spines['right'].set_visible(False)\n",
        "\n",
        "ax.set_yticklabels(y)\n",
        "\n",
        "for i in ax.patches:\n",
        "  ax.text(i.get_x() + i.get_width() / 2, i.get_height() + 4000,\n",
        "          '{:,}'.format(int(i.get_height())).replace(',','.'),\n",
        "          ha = 'center', \n",
        "          color = '#4B5475', \n",
        "          fontsize = 14)\n",
        "\n",
        "plt.tight_layout();"
      ],
      "metadata": {
        "colab": {
          "base_uri": "https://localhost:8080/",
          "height": 368
        },
        "id": "kBZ_qxinw4xJ",
        "outputId": "9ea28b58-98d4-450a-f82e-76eb8bcd5d5d"
      },
      "execution_count": 19,
      "outputs": [
        {
          "output_type": "display_data",
          "data": {
            "text/plain": [
              "<Figure size 576x360 with 1 Axes>"
            ],
            "image/png": "[encoded data removed]"
          },
          "metadata": {
            "needs_background": "light"
          }
        }
      ]
    },
    {
      "cell_type": "markdown",
      "source": [
        "###4.5.2) **Separação dos dados em conjunto de treino e teste** \n",
        "\n",
        "Separar novamente os dados X e y em grupos de treino e grupos de teste. Os dados de treino são utilizados para calcular o Fit e capacidade preditiva do modelo. Os dados de teste para verificar a qualidade do modelo. "
      ],
      "metadata": {
        "id": "-7GlrNcVkCcD"
      }
    },
    {
      "cell_type": "code",
      "source": [
        "#Separar em Treino e Teste\n",
        "X_train, X_test, y_train, y_test = train_test_split(X_resampled, y_resampled)"
      ],
      "metadata": {
        "id": "CcF4jRD5yGDC"
      },
      "execution_count": 20,
      "outputs": []
    },
    {
      "cell_type": "markdown",
      "source": [
        "###4.6) **Fit do modelo** \n",
        "\n",
        "Os dados de treino serão utilizados para \"treinar\" o modelo e calcular seu Fit, ou seja, tornar o modelo capaz de identificar padrões nos dados."
      ],
      "metadata": {
        "id": "7lgu_Z7BkLbL"
      }
    },
    {
      "cell_type": "code",
      "source": [
        "#Fit\n",
        "model.fit(X_train, y_train)"
      ],
      "metadata": {
        "colab": {
          "base_uri": "https://localhost:8080/"
        },
        "id": "mWuMqRhRkTBu",
        "outputId": "573393d4-c41d-4172-e24a-647a868b868f"
      },
      "execution_count": 21,
      "outputs": [
        {
          "output_type": "execute_result",
          "data": {
            "text/plain": [
              "LogisticRegression()"
            ]
          },
          "metadata": {},
          "execution_count": 21
        }
      ]
    },
    {
      "cell_type": "markdown",
      "source": [
        "###4.7) **Previsão do modelo** \n",
        "\n",
        "Os dados, após passados pelo processo de Fit, são utilizados para prever casos futuros."
      ],
      "metadata": {
        "id": "pWJsdj7qkPR2"
      }
    },
    {
      "cell_type": "code",
      "source": [
        "#Predict\n",
        "y_pred = model.predict(X_test)"
      ],
      "metadata": {
        "id": "6xDZJsbTkVLL"
      },
      "execution_count": 22,
      "outputs": []
    },
    {
      "cell_type": "markdown",
      "source": [
        "A seguir serão aplicadas algumas técnicas para verificar a qualidade do modelo proposto. As técnicas escolhidas foram:\n",
        "\n",
        "* **R²**: O R-quadrado estima a proporção dos valores da(s) variável(is) que são explicados/previstos pela(s) variável(is) independente(s) em um modelo preditivo. Quanto maior o valor, menor está a distância entre o previsto e o efetivo e, portanto, melhor o modelo. \n",
        "\n",
        "* **MAE (Mean Absolute Error)**: O Erro Médio Absoluto estima a diferença entre os valores estimados pelo modelo e os efetivamente ocorrrido em termos absolutos. Quanto menor o valor, menor está a distância entre o previsto e o efetivo e, portanto, melhor o modelo.  \n",
        "* **MSE (Mean Squared Error)**: O Erro Quadrado Absoluto estima a diferença entre os valores estimados pelo modelo e os efetivamente ocorrrido, ambos elevados ao quadrado. Quanto menor o valor, menor está a distância entre o previsto e o efetivo e, portanto, melhor o modelo. \n",
        "* **Classification Report**:\n",
        "  * **Precision**: Calcula a proporção dos valores corretamente previstos como \"positivos\" (previstos como sendo fraudes) em relação ao total de casos **previstos** como positivos, ou seja, considerando os Falsos Positivos (valores erroneamente classificados como fraudes)\n",
        "  * **Recall**: Calcula a proporção dos valores corretamente previstos como \"positivos\" em relação ao total de casos que **efetivamente** fazem parte do total de casos positivos, ou seja, considerando os Falsos Negativos (valores que são fraudes, mas não foram identificados)\n",
        "* **Confusion Matrix**: A Matriz de Confusão destaca a proporção dos valores separados em 4 grupos de valores:\n",
        "  * TP (True Positives): % dos dados previstos como \"positivo\" (fraude) que realmente eram fraudes \n",
        "  * TN (True Negatives): % dos dados previstos como \"negativos\" (não fraude) que realmente eram não eram fraudes \n",
        "  * FP (False Positives): % dos dados erroneamente previstos como \"positivo\", pois não eram fraudes \n",
        "  * FN (False Negatives): % dos dados erroneamente previstos como \"negativos\", pois eram fraudes "
      ],
      "metadata": {
        "id": "UJKBnpVPZoBX"
      }
    },
    {
      "cell_type": "code",
      "source": [
        "#Verificação da qualidade do modelo\n",
        "\n",
        "print(\"R² Score: \\t{:.2f}\".format(r2_score(y_test, y_pred)))          #R²\n",
        "print(\"MAE: \\t\\t{:.2f}\".format(mean_absolute_error(y_test, y_pred)))  #MAE\n",
        "print(\"MSE: \\t\\t{:.2f}\\n\".format(mean_squared_error(y_test, y_pred))) #MSE\n",
        "\n",
        "#Classification Report\n",
        "print(f\"Classification Report\\n {classification_report(y_test, y_pred)}\\n\")\n",
        "\n",
        "#Confusion Matrix\n",
        "fig, ax = plt.subplots(figsize=(8, 6))\n",
        "\n",
        "cm = confusion_matrix(y_test, y_pred)\n",
        "cmn = cm.astype('float') / cm.sum(axis=1)[:, np.newaxis]\n",
        "\n",
        "sns.heatmap(cmn, annot=True, cbar=False, \n",
        "            square=True, ax=ax);\n",
        "\n",
        "ax.set_title(\"Matriz de Confusão\")\n",
        "ax.set_xlabel(\"Previsto\")\n",
        "ax.set_ylabel(\"Verdadeiro\")"
      ],
      "metadata": {
        "id": "s59-fPoZF7qF",
        "colab": {
          "base_uri": "https://localhost:8080/",
          "height": 690
        },
        "outputId": "a4c68e2a-5cd7-4e2f-ba59-7d134034e8f4"
      },
      "execution_count": 23,
      "outputs": [
        {
          "output_type": "stream",
          "name": "stdout",
          "text": [
            "R² Score: \t0.80\n",
            "MAE: \t\t0.05\n",
            "MSE: \t\t0.05\n",
            "\n",
            "Classification Report\n",
            "               precision    recall  f1-score   support\n",
            "\n",
            "           0       0.93      0.98      0.95     71214\n",
            "           1       0.98      0.92      0.95     70944\n",
            "\n",
            "    accuracy                           0.95    142158\n",
            "   macro avg       0.95      0.95      0.95    142158\n",
            "weighted avg       0.95      0.95      0.95    142158\n",
            "\n",
            "\n"
          ]
        },
        {
          "output_type": "execute_result",
          "data": {
            "text/plain": [
              "Text(111.12, 0.5, 'Verdadeiro')"
            ]
          },
          "metadata": {},
          "execution_count": 23
        },
        {
          "output_type": "display_data",
          "data": {
            "text/plain": [
              "<Figure size 576x432 with 1 Axes>"
            ],
            "image/png": "[encoded data removed]"
          },
          "metadata": {
            "needs_background": "light"
          }
        }
      ]
    },
    {
      "cell_type": "markdown",
      "source": [
        "Interessa analisar brevemente os resultados obtidos e o que eles significam para a qualidade do modelo preditivo utilizado.\n",
        "\n",
        "* O R-quadrado de 0.8 indica uma boa capacidade das variáveis independentes de explicar/prever com sucesso a variável dependente (`Class`). Em geral, valores entre 0.8 e 0.9 são considerados muito bons. \n",
        "* Os baixos valores de MAE e MSE (ambos de .05) indicam que os valores previstos são bem próximos dos valores efetivos, reforçando a capacidade do modelo de prever resultados bem proximos dos dados de teste utilizados\n",
        "* Os resultados de Precision e Recall também foram bastante positivos. \n",
        "  * Um resultados de 0.98 em Precision indica que foram poucas vezes que o modelo erroneamente previu casos de fraude. \n",
        "  * Já o resultado de 0.92 em Recall mostra que poucas vezes o modelo deixou de incluir um caso verdadeiro de Fraude.\n",
        "\n",
        "No contexto deste projeto, Recall possui uma relevância maior do que Precision. Identificar um caso erroneamente como fraude pode causar certos atritos com clientes e gerar alguns custos a mais. Entretanto, deixar de identificar um caso como fraude pode resultar em danos muito mais sérios sobre receita, relação com clientes, imagem, etc. Portanto, um modelo que seja mais preciso em seu Recall em detrimento da penalização de Precision é bem mais favorável.\n",
        "\n",
        "Por fim, ao observar a Matriz de Confusão, os valores representam a distribuição percentual dos dados em relação a previsão X real. %2,2 dos casos foram dados previstos como fraude cujos valores não foram de fraude. No outro extremo, 7,9% dos casos foram previstos como não fraude cujos valores foram de fraude. "
      ],
      "metadata": {
        "id": "2aTNIQVinaT7"
      }
    },
    {
      "cell_type": "markdown",
      "source": [
        "Importa destacar que como os valores utilizados para construção do nosso modelo foram criados a partir de uma técnica de balanceamento, a técnica escolhida possui considerável impacto no resultado obtido, seja positivo ou negativo. \n",
        "\n",
        "Apesar dos valores obtidos serem considerados bons, é interessante examinar se utilizando outros tipos de técnicas de Oversampling seria possível obter resultados mais ótimos para do modelo. Das diversas técnicas existentes, duas merecem destaque: SMOTE e ADASYN."
      ],
      "metadata": {
        "id": "j2bF6fUj6951"
      }
    },
    {
      "cell_type": "markdown",
      "source": [
        "###SMOTE (Synthetic Minority Over Sampling Technique)\n",
        "\n",
        "De maneira simplificada, a técnica SMOTE identifica os dados do conjunto minoritário de forma a estabelecer conexões entre cada um dos valores e seus vizinhos mais próximos (ou k-means) de maneira a criar um \"espaço\" para este grupo. A partir disto, novos valores são criados ao longo do intervalo de distância que existe entre os valores originais. \n",
        "\n",
        "Por um lado o procedimento é vantajoso, pois permite criar valores fidedignos, pois estão localizados em um espectro próximo ao de valores originais. Entretanto, esta técnica também pode ser desvantajosa, pois não considera os valores do grupo majoritátio em sua confecção. A figura abaixo representa como funciona o procedimento. \n",
        "\n",
        "Para um entendimento mais extenso desta técnica, recomendo o seguinte [artigo explicando a técnica](https://machinelearningmastery.com/smote-oversampling-for-imbalanced-classification/) e o seguinte [video explicando a lógica e como executá-la em Python](https://www.youtube.com/watch?v=U3X98xZ4_no&t=392s).\n",
        "\n",
        "<img src=\"https://iq.opengenus.org/content/images/2019/09/COVER-1.PNG\">"
      ],
      "metadata": {
        "id": "bCJZ140eupz0"
      }
    },
    {
      "cell_type": "code",
      "source": [
        "#Importação da técnica SMOTE de oversampling\n",
        "from imblearn.over_sampling import SMOTE"
      ],
      "metadata": {
        "id": "Rf-l-c1MvFOd"
      },
      "execution_count": 24,
      "outputs": []
    },
    {
      "cell_type": "markdown",
      "source": [
        "Todos os demais procedimentos abaixo seguem os mesmos princípios utilizados anteriormente. Alguns passos não foram repetidos, pois já foram executados anteriormente e estão citados como forma de facilitar o entendimento de como funcionaria o procedimento caso executado pela primeira vez."
      ],
      "metadata": {
        "id": "Ou_nKqup9RSY"
      }
    },
    {
      "cell_type": "markdown",
      "source": [
        "###Logistic Regression"
      ],
      "metadata": {
        "id": "dw8HkOoFu9QR"
      }
    },
    {
      "cell_type": "code",
      "source": [
        "#1 - Escolha do Modelo (FEITO)\n",
        "\n",
        "#2 - Hyperparametros (FEITO)\n",
        "\n",
        "#3 - Separar\n",
        "X = df.drop('Class', axis=1)\n",
        "y = df['Class'].values.reshape(-1,1)"
      ],
      "metadata": {
        "id": "6M1VjLUevDIE"
      },
      "execution_count": 25,
      "outputs": []
    },
    {
      "cell_type": "code",
      "source": [
        "#B - Hyperparametros\n",
        "sm = SMOTE(random_state=0) #Aplicação do método SMOTE em vez de Random Sampling\n",
        "\n",
        "#C - Separar dados\n",
        "X_resampled, y_resampled = sm.fit_resample(X, y) #Criação dos dados em Class"
      ],
      "metadata": {
        "id": "5MLzxXBev16b"
      },
      "execution_count": 26,
      "outputs": []
    },
    {
      "cell_type": "code",
      "source": [
        "#3.1 - Separar em Treino e Teste\n",
        "X_train, X_test, y_train, y_test = train_test_split(X_resampled, y_resampled)\n",
        "\n",
        "#4 - Fit\n",
        "model.fit(X_train, y_train)\n",
        "\n",
        "#5 - Predict\n",
        "y_pred = model.predict(X_test)"
      ],
      "metadata": {
        "id": "uFR_mVGtwqYo"
      },
      "execution_count": 27,
      "outputs": []
    },
    {
      "cell_type": "code",
      "source": [
        "#Verificação da qualidade do modelo\n",
        "\n",
        "print(\"R² Score: \\t{:.2f}\".format(r2_score(y_test, y_pred)))          #R²\n",
        "print(\"MAE: \\t\\t{:.2f}\".format(mean_absolute_error(y_test, y_pred)))  #MAE\n",
        "print(\"MSE: \\t\\t{:.2f}\\n\".format(mean_squared_error(y_test, y_pred))) #MSE\n",
        "\n",
        "#Classification Report\n",
        "print(f\"Classification Report\\n {classification_report(y_test, y_pred)}\\n\")\n",
        "\n",
        "#Confusion Matrix\n",
        "fig, ax = plt.subplots(figsize=(8, 6))\n",
        "\n",
        "cm = confusion_matrix(y_test, y_pred)\n",
        "cmn = cm.astype('float') / cm.sum(axis=1)[:, np.newaxis]\n",
        "\n",
        "sns.heatmap(cmn, annot=True, cbar=False, \n",
        "            square=True, ax=ax);\n",
        "\n",
        "ax.set_title(\"Matriz de Confusão\")\n",
        "ax.set_xlabel(\"Previsto\")\n",
        "ax.set_ylabel(\"Verdadeiro\")"
      ],
      "metadata": {
        "colab": {
          "base_uri": "https://localhost:8080/",
          "height": 690
        },
        "id": "uRPyZ20DxuEt",
        "outputId": "7fe15639-606f-4964-9772-ac20bf35da40"
      },
      "execution_count": 28,
      "outputs": [
        {
          "output_type": "stream",
          "name": "stdout",
          "text": [
            "R² Score: \t0.79\n",
            "MAE: \t\t0.05\n",
            "MSE: \t\t0.05\n",
            "\n",
            "Classification Report\n",
            "               precision    recall  f1-score   support\n",
            "\n",
            "           0       0.92      0.98      0.95     71246\n",
            "           1       0.97      0.92      0.95     70912\n",
            "\n",
            "    accuracy                           0.95    142158\n",
            "   macro avg       0.95      0.95      0.95    142158\n",
            "weighted avg       0.95      0.95      0.95    142158\n",
            "\n",
            "\n"
          ]
        },
        {
          "output_type": "execute_result",
          "data": {
            "text/plain": [
              "Text(111.12, 0.5, 'Verdadeiro')"
            ]
          },
          "metadata": {},
          "execution_count": 28
        },
        {
          "output_type": "display_data",
          "data": {
            "text/plain": [
              "<Figure size 576x432 with 1 Axes>"
            ],
            "image/png": "[encoded data removed]"
          },
          "metadata": {
            "needs_background": "light"
          }
        }
      ]
    },
    {
      "cell_type": "markdown",
      "source": [
        "Comparando os resultados do SMOTE em relação ao Random Sample, não é possível identificar mudanças significativas.\n",
        "\n",
        "* O R² foi de 0.79, praticamente igual ao do modelo anterior de 0.81.\n",
        "* O MAE e MSE dos dois modelos foram praticamente iguais também (0.05).\n",
        "* Precision e Racall também foram praticamente igual em ambos os modelos.\n",
        "* Os valores de Previsto X Real também ficaram praticamente igual em ambos os modelos, com destaque para o Falso Negativo que subiu de 0.079 para 0.082. "
      ],
      "metadata": {
        "id": "bAEF-gPDDfOT"
      }
    },
    {
      "cell_type": "markdown",
      "source": [
        "###ADASYN (Adaptative Synthetic)\n",
        "\n",
        "Similar ao SMOTE, esta técnica também busca criar novos valores para o grupo minoritário considerando a localização dos valores e o espaço de distância entre eles. Entretanto, esta técnica se diferencia da SMOTE em um aspecto chave. Os valores gerados pela técnica ADASYN ao utilizar a densidade de acumulo de valores como critério. Em outras palavras, a técnica gera mais valores onde existe uma baixa concentração de casos reais no espectro minoritário e cria menos valores onde existe uma alta concentração de casos reais. A imagem abaixo representa a diferença das técnicas SMOTE e ADASYN respectivamente.\n",
        "\n",
        "<img src=\"https://www.researchgate.net/publication/348078650/figure/fig3/AS:975004695003136@1609470642047/Difference-between-ADASYN-and-SMOTE-algorithms.ppm\">\n"
      ],
      "metadata": {
        "id": "obR47kb13wX8"
      }
    },
    {
      "cell_type": "code",
      "source": [
        "#Importação da técnica ADASYN de oversampling\n",
        "from imblearn.over_sampling import ADASYN"
      ],
      "metadata": {
        "id": "gJgcHgkA4Yv0"
      },
      "execution_count": 29,
      "outputs": []
    },
    {
      "cell_type": "markdown",
      "source": [
        "###Logistic Regression"
      ],
      "metadata": {
        "id": "CCgpmvYB4Yv2"
      }
    },
    {
      "cell_type": "code",
      "source": [
        "#1 - Escolha do Modelo (FEITO)\n",
        "\n",
        "#2 - Hyperparametros (FEITO)\n",
        "\n",
        "#3 - Separar\n",
        "X = df.drop('Class', axis=1)\n",
        "y = df['Class'].values.reshape(-1,1)"
      ],
      "metadata": {
        "id": "e7X-5Zbu4Yv3"
      },
      "execution_count": 30,
      "outputs": []
    },
    {
      "cell_type": "code",
      "source": [
        "#B - Hyperparametros\n",
        "ad = ADASYN(random_state=0)\n",
        "\n",
        "#C - Separar dados\n",
        "X_resampled, y_resampled = ad.fit_resample(X, y)"
      ],
      "metadata": {
        "id": "7h4xavAL4Yv5"
      },
      "execution_count": 31,
      "outputs": []
    },
    {
      "cell_type": "code",
      "source": [
        "#3.1 - Separar em Treino e Teste\n",
        "X_train, X_test, y_train, y_test = train_test_split(X_resampled, y_resampled)\n",
        "\n",
        "#4 - Fit\n",
        "model.fit(X_train, y_train)\n",
        "\n",
        "#5 - Predict\n",
        "y_pred = model.predict(X_test)"
      ],
      "metadata": {
        "id": "0vEaTc1k4Yv6"
      },
      "execution_count": 32,
      "outputs": []
    },
    {
      "cell_type": "code",
      "source": [
        "#Verificar o sucesso do modelo\n",
        "\n",
        "print(\"R² Score: \\t{:.2f}\".format(r2_score(y_test, y_pred)))          #R²\n",
        "print(\"MAE: \\t\\t{:.2f}\".format(mean_absolute_error(y_test, y_pred)))  #MAE\n",
        "print(\"MSE: \\t\\t{:.2f}\\n\".format(mean_squared_error(y_test, y_pred))) #MSE\n",
        "\n",
        "#Classification Report\n",
        "print(f\"Classification Report\\n {classification_report(y_test, y_pred)}\\n\")\n",
        "\n",
        "#Confusion Matrix\n",
        "fig, ax = plt.subplots(figsize=(8, 6))\n",
        "\n",
        "cm = confusion_matrix(y_test, y_pred)\n",
        "cmn = cm.astype('float') / cm.sum(axis=1)[:, np.newaxis] #???\n",
        "\n",
        "sns.heatmap(cmn, annot=True, cbar=False, \n",
        "            square=True, ax=ax);\n",
        "\n",
        "ax.set_title(\"Matriz de Confusão\")\n",
        "ax.set_xlabel(\"Previsto\")\n",
        "ax.set_ylabel(\"Verdadeiro\")"
      ],
      "metadata": {
        "colab": {
          "base_uri": "https://localhost:8080/",
          "height": 690
        },
        "outputId": "27c56150-f351-4d3d-a760-423ce54c59ee",
        "id": "FVnpAwfG4Yv8"
      },
      "execution_count": 33,
      "outputs": [
        {
          "output_type": "stream",
          "name": "stdout",
          "text": [
            "R² Score: \t0.54\n",
            "MAE: \t\t0.11\n",
            "MSE: \t\t0.11\n",
            "\n",
            "Classification Report\n",
            "               precision    recall  f1-score   support\n",
            "\n",
            "           0       0.87      0.91      0.89     70898\n",
            "           1       0.90      0.86      0.88     71258\n",
            "\n",
            "    accuracy                           0.89    142156\n",
            "   macro avg       0.89      0.89      0.89    142156\n",
            "weighted avg       0.89      0.89      0.89    142156\n",
            "\n",
            "\n"
          ]
        },
        {
          "output_type": "execute_result",
          "data": {
            "text/plain": [
              "Text(111.12, 0.5, 'Verdadeiro')"
            ]
          },
          "metadata": {},
          "execution_count": 33
        },
        {
          "output_type": "display_data",
          "data": {
            "text/plain": [
              "<Figure size 576x432 with 1 Axes>"
            ],
            "image/png": "[encoded data removed]"
          },
          "metadata": {
            "needs_background": "light"
          }
        }
      ]
    },
    {
      "cell_type": "markdown",
      "source": [
        "Comparando os resultados do ADASYN em relação ao Random Sample e SMOTE, é possível identificar uma leve piora nos resultados.\n",
        "\n",
        "* O R² foi de 0.55, bem menor em relação aos resultados anteriores (0.81 e 0.79).\n",
        "* O MAE e MSE também subiu para 0.11, maior que nos modelos anteriores (0.05).\n",
        "* Precision e Racall também foram menores quando comparados aos dois outros modelos, mas não foram tão baixos no geral.\n",
        "* Os valores de Previsto X Real também sofreram uma leve pior. Os Falsos Positivos chegaram a valores de 9.5% e os valores de Falso Negativo chegaram a valores de 13%. "
      ],
      "metadata": {
        "id": "7riBApELl9RM"
      }
    },
    {
      "cell_type": "markdown",
      "source": [
        "Pode-se concluir que das técnicas utilizadas a Random Sample e SMOTE trouxeram os melhores resultados de forma que o modelo obtidos apresentou ótimos valores em todos os indicadores de qualidade (R², MAE, MSE, Precision e Recall). Pode-se destacar que um único indicador que poderia ser interessante de apresentar uma melhora poderia ser os Falsos Negativos, pois eles tem grande impacto no funcionamento do negócio.\n",
        "\n",
        "Até o momento todos os modelos utilizados foram criados através de regressões logísticas. Entretanto existem outros modelos de classificação que podem ser capazes de trazer resultados melhores. Um destes modelos é o Decision Tree (ou Árvore de Decisão)."
      ],
      "metadata": {
        "id": "cB8zuNanHkwJ"
      }
    },
    {
      "cell_type": "markdown",
      "source": [
        "###Decision Tree\n",
        "\n",
        "A Árvore de Decisão é outra clássica metodologia de aprendizado supervisionado para modelos de classificação. Ela utiliza uma lógica de \"se...então\", por exemplo, se o valor em `Amount` no nosso conjunto de dados for maior que X, então o modelo determina que pode ser mais provável que seja sim um caso de fraude. \n",
        "\n",
        "De forma sucessiva o modelo analisa cada um dos atributos (colunas) no conjunto de dados e determina quais deles são capazes de distinguir com mais capacidade os casos de fraude dos casos que não são fraude. A partir disso \"ramos\" são formados onde, de um lado, temos teóricamente 2 conjuntos: um com dados só de fraude e outro com casos só de não fraude. Entretanto, isto não ocorre na maioria das vezes, pois ocorrem casos de Falsos Positivos e Falsos Negativos em ambos os grupos.\n",
        "\n",
        "Em seguida, um novo diferente em cada um dos ramos é utilizado para separar novamente os dados em 2 ramos, cada vez mais tentando alcançar a separação com maior pureza possível, ou seja, grupos puramente de fraude e sem fraude. A imagem abaixo representa de forma bem simplificada a lógica desta metodologia.\n",
        "\n",
        "<img src=\"https://miro.medium.com/max/2584/0*PB7MYQfzyaLaTp1n\">"
      ],
      "metadata": {
        "id": "uFMYAAas4Ut4"
      }
    },
    {
      "cell_type": "code",
      "source": [
        "#1 - Escolher modelo\n",
        "from sklearn.tree import DecisionTreeClassifier\n",
        "\n",
        "#2 - Hyperparametros\n",
        "model_b1 = DecisionTreeClassifier(max_depth=2, criterion='entropy')\n",
        "model_b2 = DecisionTreeClassifier(max_depth=4, criterion='entropy')\n",
        "model_b3 = DecisionTreeClassifier(max_depth=8, criterion='entropy')\n",
        "model_b4 = DecisionTreeClassifier(max_depth=16, criterion='entropy')"
      ],
      "metadata": {
        "id": "Ci5rCqNc4XKp"
      },
      "execution_count": 34,
      "outputs": []
    },
    {
      "cell_type": "markdown",
      "source": [
        "Como pode ser observado, foram criados 4 modelos diferentes de Machine Learning onde a diferença reside nos hyperparametros. O hyperparametro \"max_depth\" define a quantidade de ramos que a Decision Tree irá possuir. Este é um critério importante, pois um modelo com poucos ramos pode ser muito superficial e impacaz de prever com alto grau os casos de fraude. Por outro lado, um excesso de ramos pode resultar em um overfitting nos no modelo, tornado ele rígido e inefetivo na sua capacidade preditiva ao receber um novo conjunto de dados.\n",
        "\n",
        "Portanto, serão testados 4 extensões de ramos diferentes e examindados os seus resultados em quesitos de qualidade do modelo."
      ],
      "metadata": {
        "id": "ahK_vWNWxG3O"
      }
    },
    {
      "cell_type": "code",
      "source": [
        "#3 - Separar\n",
        "X = df.drop('Class', axis=1)\n",
        "y = df['Class'].values.reshape(-1,1)\n",
        "\n",
        "#3.1 - Balanceamento dos dados\n",
        "\n",
        "#3.1.1 - Hyperparametros\n",
        "ros = RandomOverSampler(random_state=0)\n",
        "\n",
        "#3.1.2 - Separar dados\n",
        "X_resampled, y_resampled = ros.fit_resample(X, y)\n",
        "\n",
        "#3.2 - Separar Treino e Teste\n",
        "X_train, X_test, y_train, y_test = train_test_split(X_resampled, y_resampled)\n",
        "\n",
        "#4 - Fit\n",
        "model_b1.fit(X_resampled, y_resampled)\n",
        "model_b2.fit(X_resampled, y_resampled)\n",
        "model_b3.fit(X_resampled, y_resampled)\n",
        "model_b4.fit(X_resampled, y_resampled)\n",
        "\n",
        "#5 - Predict\n",
        "y_pred_b1 = model_b1.predict(X_test)\n",
        "y_pred_b2 = model_b2.predict(X_test)\n",
        "y_pred_b3 = model_b3.predict(X_test)\n",
        "y_pred_b4 = model_b4.predict(X_test)"
      ],
      "metadata": {
        "id": "zoi21Vt0xIGo"
      },
      "execution_count": 35,
      "outputs": []
    },
    {
      "cell_type": "code",
      "source": [
        "#Verificar sucesso do modelo b1\n",
        "\n",
        "print(\"R² Score: \\t{:.2f}\".format(r2_score(y_test, y_pred_b1)))          #R²\n",
        "print(\"MAE: \\t\\t{:.2f}\".format(mean_absolute_error(y_test, y_pred_b1)))  #MAE\n",
        "print(\"MSE: \\t\\t{:.2f}\\n\".format(mean_squared_error(y_test, y_pred_b1))) #MSE\n",
        "\n",
        "#Classification Report\n",
        "print(f\"Classification Report\\n {classification_report(y_test, y_pred_b1)}\\n\")\n",
        "\n",
        "#Confusion Matrix\n",
        "fig, ax = plt.subplots(figsize=(8, 6))\n",
        "\n",
        "cm = confusion_matrix(y_test, y_pred_b1)\n",
        "cmn = cm.astype('float') / cm.sum(axis=1)[:, np.newaxis] #???\n",
        "\n",
        "sns.heatmap(cmn, annot=True, cbar=False, \n",
        "            square=True, ax=ax);\n",
        "\n",
        "ax.set_title(\"Matriz de Confusão\")\n",
        "ax.set_xlabel(\"Previsto\")\n",
        "ax.set_ylabel(\"Verdadeiro\")"
      ],
      "metadata": {
        "colab": {
          "base_uri": "https://localhost:8080/",
          "height": 690
        },
        "id": "rnA3FKlX6yA-",
        "outputId": "4ea55eac-163b-4b9a-f9c2-1ea71a50ab88"
      },
      "execution_count": 36,
      "outputs": [
        {
          "output_type": "stream",
          "name": "stdout",
          "text": [
            "R² Score: \t0.66\n",
            "MAE: \t\t0.09\n",
            "MSE: \t\t0.09\n",
            "\n",
            "Classification Report\n",
            "               precision    recall  f1-score   support\n",
            "\n",
            "           0       0.92      0.91      0.91     70895\n",
            "           1       0.91      0.92      0.92     71263\n",
            "\n",
            "    accuracy                           0.91    142158\n",
            "   macro avg       0.91      0.91      0.91    142158\n",
            "weighted avg       0.91      0.91      0.91    142158\n",
            "\n",
            "\n"
          ]
        },
        {
          "output_type": "execute_result",
          "data": {
            "text/plain": [
              "Text(111.12, 0.5, 'Verdadeiro')"
            ]
          },
          "metadata": {},
          "execution_count": 36
        },
        {
          "output_type": "display_data",
          "data": {
            "text/plain": [
              "<Figure size 576x432 with 1 Axes>"
            ],
            "image/png": "[encoded data removed]"
          },
          "metadata": {
            "needs_background": "light"
          }
        }
      ]
    },
    {
      "cell_type": "code",
      "source": [
        "#Verificar sucesso do modelo b2\n",
        "\n",
        "print(\"R² Score: \\t{:.2f}\".format(r2_score(y_test, y_pred_b2)))          #R²\n",
        "print(\"MAE: \\t\\t{:.2f}\".format(mean_absolute_error(y_test, y_pred_b2)))  #MAE\n",
        "print(\"MSE: \\t\\t{:.2f}\\n\".format(mean_squared_error(y_test, y_pred_b2))) #MSE\n",
        "\n",
        "#Classification Report\n",
        "print(f\"Classification Report\\n {classification_report(y_test, y_pred_b2)}\\n\")\n",
        "\n",
        "#Confusion Matrix\n",
        "fig, ax = plt.subplots(figsize=(8, 6))\n",
        "\n",
        "cm = confusion_matrix(y_test, y_pred_b2)\n",
        "cmn = cm.astype('float') / cm.sum(axis=1)[:, np.newaxis] #???\n",
        "\n",
        "sns.heatmap(cmn, annot=True, cbar=False, \n",
        "            square=True, ax=ax);\n",
        "\n",
        "ax.set_title(\"Matriz de Confusão\")\n",
        "ax.set_xlabel(\"Previsto\")\n",
        "ax.set_ylabel(\"Verdadeiro\")"
      ],
      "metadata": {
        "colab": {
          "base_uri": "https://localhost:8080/",
          "height": 690
        },
        "id": "nKSezzXc7cs1",
        "outputId": "f6ef66e7-38a8-4665-f871-17f537428d9d"
      },
      "execution_count": 37,
      "outputs": [
        {
          "output_type": "stream",
          "name": "stdout",
          "text": [
            "R² Score: \t0.76\n",
            "MAE: \t\t0.06\n",
            "MSE: \t\t0.06\n",
            "\n",
            "Classification Report\n",
            "               precision    recall  f1-score   support\n",
            "\n",
            "           0       0.90      0.99      0.94     70895\n",
            "           1       0.99      0.89      0.94     71263\n",
            "\n",
            "    accuracy                           0.94    142158\n",
            "   macro avg       0.94      0.94      0.94    142158\n",
            "weighted avg       0.94      0.94      0.94    142158\n",
            "\n",
            "\n"
          ]
        },
        {
          "output_type": "execute_result",
          "data": {
            "text/plain": [
              "Text(111.12, 0.5, 'Verdadeiro')"
            ]
          },
          "metadata": {},
          "execution_count": 37
        },
        {
          "output_type": "display_data",
          "data": {
            "text/plain": [
              "<Figure size 576x432 with 1 Axes>"
            ],
            "image/png": "[encoded data removed]"
          },
          "metadata": {
            "needs_background": "light"
          }
        }
      ]
    },
    {
      "cell_type": "code",
      "source": [
        "#Verificar sucesso do modelo b3\n",
        "\n",
        "print(\"R² Score: \\t{:.2f}\".format(r2_score(y_test, y_pred_b3)))          #R²\n",
        "print(\"MAE: \\t\\t{:.2f}\".format(mean_absolute_error(y_test, y_pred_b3)))  #MAE\n",
        "print(\"MSE: \\t\\t{:.2f}\\n\".format(mean_squared_error(y_test, y_pred_b3))) #MSE\n",
        "\n",
        "#Classification Report\n",
        "print(f\"Classification Report\\n {classification_report(y_test, y_pred_b3)}\\n\")\n",
        "\n",
        "#Confusion Matrix\n",
        "fig, ax = plt.subplots(figsize=(8, 6))\n",
        "\n",
        "cm = confusion_matrix(y_test, y_pred_b3)\n",
        "cmn = cm.astype('float') / cm.sum(axis=1)[:, np.newaxis] #???\n",
        "\n",
        "sns.heatmap(cmn, annot=True, cbar=False, \n",
        "            square=True, ax=ax);\n",
        "\n",
        "ax.set_title(\"Matriz de Confusão\")\n",
        "ax.set_xlabel(\"Previsto\")\n",
        "ax.set_ylabel(\"Verdadeiro\")"
      ],
      "metadata": {
        "colab": {
          "base_uri": "https://localhost:8080/",
          "height": 690
        },
        "id": "CuMRdtLF7k_a",
        "outputId": "7a1d32a9-1f8d-4ba5-b510-b84c3743c8d6"
      },
      "execution_count": 38,
      "outputs": [
        {
          "output_type": "stream",
          "name": "stdout",
          "text": [
            "R² Score: \t0.93\n",
            "MAE: \t\t0.02\n",
            "MSE: \t\t0.02\n",
            "\n",
            "Classification Report\n",
            "               precision    recall  f1-score   support\n",
            "\n",
            "           0       0.99      0.97      0.98     70895\n",
            "           1       0.97      0.99      0.98     71263\n",
            "\n",
            "    accuracy                           0.98    142158\n",
            "   macro avg       0.98      0.98      0.98    142158\n",
            "weighted avg       0.98      0.98      0.98    142158\n",
            "\n",
            "\n"
          ]
        },
        {
          "output_type": "execute_result",
          "data": {
            "text/plain": [
              "Text(111.12, 0.5, 'Verdadeiro')"
            ]
          },
          "metadata": {},
          "execution_count": 38
        },
        {
          "output_type": "display_data",
          "data": {
            "text/plain": [
              "<Figure size 576x432 with 1 Axes>"
            ],
            "image/png": "[encoded data removed]"
          },
          "metadata": {
            "needs_background": "light"
          }
        }
      ]
    },
    {
      "cell_type": "code",
      "source": [
        "#Verificar sucesso do modelo b4\n",
        "\n",
        "print(\"R² Score: \\t{:.2f}\".format(r2_score(y_test, y_pred_b4)))          #R²\n",
        "print(\"MAE: \\t\\t{:.2f}\".format(mean_absolute_error(y_test, y_pred_b4)))  #MAE\n",
        "print(\"MSE: \\t\\t{:.2f}\\n\".format(mean_squared_error(y_test, y_pred_b4))) #MSE\n",
        "\n",
        "#Classification Report\n",
        "print(f\"Classification Report\\n {classification_report(y_test, y_pred_b4)}\\n\")\n",
        "\n",
        "#Confusion Matrix\n",
        "fig, ax = plt.subplots(figsize=(8, 6))\n",
        "\n",
        "cm = confusion_matrix(y_test, y_pred_b4)\n",
        "cmn = cm.astype('float') / cm.sum(axis=1)[:, np.newaxis] #???\n",
        "\n",
        "sns.heatmap(cmn, annot=True, cbar=False, \n",
        "            square=True, ax=ax);\n",
        "\n",
        "ax.set_title(\"Matriz de Confusão\")\n",
        "ax.set_xlabel(\"Previsto\")\n",
        "ax.set_ylabel(\"Verdadeiro\")"
      ],
      "metadata": {
        "colab": {
          "base_uri": "https://localhost:8080/",
          "height": 690
        },
        "id": "7XGkqgsO7vgd",
        "outputId": "4fb83544-995d-4f6c-9aee-236afed1fa59"
      },
      "execution_count": 39,
      "outputs": [
        {
          "output_type": "stream",
          "name": "stdout",
          "text": [
            "R² Score: \t1.00\n",
            "MAE: \t\t0.00\n",
            "MSE: \t\t0.00\n",
            "\n",
            "Classification Report\n",
            "               precision    recall  f1-score   support\n",
            "\n",
            "           0       1.00      1.00      1.00     70895\n",
            "           1       1.00      1.00      1.00     71263\n",
            "\n",
            "    accuracy                           1.00    142158\n",
            "   macro avg       1.00      1.00      1.00    142158\n",
            "weighted avg       1.00      1.00      1.00    142158\n",
            "\n",
            "\n"
          ]
        },
        {
          "output_type": "execute_result",
          "data": {
            "text/plain": [
              "Text(111.12, 0.5, 'Verdadeiro')"
            ]
          },
          "metadata": {},
          "execution_count": 39
        },
        {
          "output_type": "display_data",
          "data": {
            "text/plain": [
              "<Figure size 576x432 with 1 Axes>"
            ],
            "image/png": "[encoded data removed]"
          },
          "metadata": {
            "needs_background": "light"
          }
        }
      ]
    },
    {
      "cell_type": "markdown",
      "source": [
        "Ao analisar os 4 modelos é possível identificar certos comportamentos nos resultados de qualidade obtidos. \n",
        "\n",
        "Primeiramente o R², MAE e MSE foram melhorando conforme mais ramos foram adicionados à árvore. Inicialmente, o modelo com 2 ramos apresentou baixo R² (0.66) e MAE (0.09) e MSE (0.09) levemente altos. \n",
        "\n",
        "Em seguida, os valores de Precision e Recall também foram melhorando. O primeiro modelo já apresentou bons resultados, de maneira que foram bem semelhantes com os resultados do modelo de regressão logística utilizado anteriormente (Precision = 0.91; Recall = 0.91).\n",
        "\n",
        "Por fim, ao analisar os Falsos Positivos e Falsos Negativo, houve significativa melhora. Os modelos de b1 (2 ramos) e b2 (4 ramos) se comportaram similar aos casos no modelo de regressão logística com FN em torno de 0.08 e 0.11 e FP em torno de 0.01 e 0.09. \n",
        "\n",
        "Vale destacar os resultados bem mais favoráveis no modelo b3 (8 ramos). Nele, os Falsos Negativos (0.0086) e Falsos Positivos reduziram drásticamente (0.027). Como já mencionado anteriormente, é altamente relevante para o caso em questão reduzir o total de Falsos Negativos de maneira a evitar o máximo que casos de fraude passem pelo filtro do modelo.\n",
        "\n",
        "Uma última observação diz respeito ao modelo b4 (16 ramos). Seus resultados foram perfeitos em todas as categorias de qualidade. Isto é um forte indicativo de overfitting do modelo, ou seja, ele é capaz de segmentar perfeitamente os grupos fraude e não fraude do conjunto de dados utilizado oferecido. Caso novos dados fossem utilizados, este modelo não seria capaz de prevê-los com sucesso. \n",
        "\n",
        "Este resultado também pode servir de fundamento para questionar o modelo b3. É possível que ele também esteja sofrendo com problemas de overfitting, apesar de existirem certa margem de erro em todos os resultados.\n",
        "\n",
        "Como próximo passo, similar ao modelo de Regressão Logística, a utilização das técnicas de SMOTE e ADASYN para oversampling foram aplicadas e novos modelos gerados com o intuito de identificar melhoras nos resultados."
      ],
      "metadata": {
        "id": "CcwuQlot4GBk"
      }
    },
    {
      "cell_type": "markdown",
      "source": [
        "###Decision Tree - SMOTE (Synthetic Minority Over Sampling Technique)"
      ],
      "metadata": {
        "id": "WIIWUpFPvBhU"
      }
    },
    {
      "cell_type": "code",
      "source": [
        "#B - Hyperparametros\n",
        "sm = SMOTE(random_state=0) #Aplicação do método SMOTE em vez de Random Sampling\n",
        "\n",
        "#C - Separar dados\n",
        "X_resampled, y_resampled = sm.fit_resample(X, y) #Criação dos dados em Class"
      ],
      "metadata": {
        "id": "ApNBppWMz2KC"
      },
      "execution_count": 40,
      "outputs": []
    },
    {
      "cell_type": "code",
      "source": [
        "#4 - Fit\n",
        "model_b1.fit(X_resampled, y_resampled)\n",
        "model_b2.fit(X_resampled, y_resampled)\n",
        "model_b3.fit(X_resampled, y_resampled)\n",
        "model_b4.fit(X_resampled, y_resampled)\n",
        "\n",
        "#5 - Predict\n",
        "y_pred_b1 = model_b1.predict(X_test)\n",
        "y_pred_b2 = model_b2.predict(X_test)\n",
        "y_pred_b3 = model_b3.predict(X_test)\n",
        "y_pred_b4 = model_b4.predict(X_test)"
      ],
      "metadata": {
        "id": "UGzoKzRJz_XN"
      },
      "execution_count": 41,
      "outputs": []
    },
    {
      "cell_type": "code",
      "source": [
        "#Verificar sucesso do modelo b1\n",
        "\n",
        "print(\"R² Score: \\t{:.2f}\".format(r2_score(y_test, y_pred_b1)))          #R²\n",
        "print(\"MAE: \\t\\t{:.2f}\".format(mean_absolute_error(y_test, y_pred_b1)))  #MAE\n",
        "print(\"MSE: \\t\\t{:.2f}\\n\".format(mean_squared_error(y_test, y_pred_b1))) #MSE\n",
        "\n",
        "#Classification Report\n",
        "print(f\"Classification Report\\n {classification_report(y_test, y_pred_b1)}\\n\")\n",
        "\n",
        "#Confusion Matrix\n",
        "fig, ax = plt.subplots(figsize=(8, 6))\n",
        "\n",
        "cm = confusion_matrix(y_test, y_pred_b1)\n",
        "cmn = cm.astype('float') / cm.sum(axis=1)[:, np.newaxis] #???\n",
        "\n",
        "sns.heatmap(cmn, annot=True, cbar=False, \n",
        "            square=True, ax=ax);\n",
        "\n",
        "ax.set_title(\"Matriz de Confusão\")\n",
        "ax.set_xlabel(\"Previsto\")\n",
        "ax.set_ylabel(\"Verdadeiro\")"
      ],
      "metadata": {
        "colab": {
          "base_uri": "https://localhost:8080/",
          "height": 690
        },
        "id": "vH3Vxkg70M4A",
        "outputId": "ff642bfb-730e-4d6a-fe48-e6a07df3bbfc"
      },
      "execution_count": 42,
      "outputs": [
        {
          "output_type": "stream",
          "name": "stdout",
          "text": [
            "R² Score: \t0.65\n",
            "MAE: \t\t0.09\n",
            "MSE: \t\t0.09\n",
            "\n",
            "Classification Report\n",
            "               precision    recall  f1-score   support\n",
            "\n",
            "           0       0.86      0.99      0.92     70895\n",
            "           1       0.99      0.84      0.91     71263\n",
            "\n",
            "    accuracy                           0.91    142158\n",
            "   macro avg       0.92      0.91      0.91    142158\n",
            "weighted avg       0.92      0.91      0.91    142158\n",
            "\n",
            "\n"
          ]
        },
        {
          "output_type": "execute_result",
          "data": {
            "text/plain": [
              "Text(111.12, 0.5, 'Verdadeiro')"
            ]
          },
          "metadata": {},
          "execution_count": 42
        },
        {
          "output_type": "display_data",
          "data": {
            "text/plain": [
              "<Figure size 576x432 with 1 Axes>"
            ],
            "image/png": "[encoded data removed]"
          },
          "metadata": {
            "needs_background": "light"
          }
        }
      ]
    },
    {
      "cell_type": "code",
      "source": [
        "#Verificar sucesso do modelo b2\n",
        "\n",
        "print(\"R² Score: \\t{:.2f}\".format(r2_score(y_test, y_pred_b2)))          #R²\n",
        "print(\"MAE: \\t\\t{:.2f}\".format(mean_absolute_error(y_test, y_pred_b2)))  #MAE\n",
        "print(\"MSE: \\t\\t{:.2f}\\n\".format(mean_squared_error(y_test, y_pred_b2))) #MSE\n",
        "\n",
        "#Classification Report\n",
        "print(f\"Classification Report\\n {classification_report(y_test, y_pred_b2)}\\n\")\n",
        "\n",
        "#Confusion Matrix\n",
        "fig, ax = plt.subplots(figsize=(8, 6))\n",
        "\n",
        "cm = confusion_matrix(y_test, y_pred_b2)\n",
        "cmn = cm.astype('float') / cm.sum(axis=1)[:, np.newaxis] #???\n",
        "\n",
        "sns.heatmap(cmn, annot=True, cbar=False, \n",
        "            square=True, ax=ax);\n",
        "\n",
        "ax.set_title(\"Matriz de Confusão\")\n",
        "ax.set_xlabel(\"Previsto\")\n",
        "ax.set_ylabel(\"Verdadeiro\")"
      ],
      "metadata": {
        "colab": {
          "base_uri": "https://localhost:8080/",
          "height": 690
        },
        "id": "AMl-NnTR0N19",
        "outputId": "92e0c928-3ed1-4342-b517-ed400d4a0fbd"
      },
      "execution_count": 43,
      "outputs": [
        {
          "output_type": "stream",
          "name": "stdout",
          "text": [
            "R² Score: \t0.75\n",
            "MAE: \t\t0.06\n",
            "MSE: \t\t0.06\n",
            "\n",
            "Classification Report\n",
            "               precision    recall  f1-score   support\n",
            "\n",
            "           0       0.90      0.98      0.94     70895\n",
            "           1       0.98      0.89      0.93     71263\n",
            "\n",
            "    accuracy                           0.94    142158\n",
            "   macro avg       0.94      0.94      0.94    142158\n",
            "weighted avg       0.94      0.94      0.94    142158\n",
            "\n",
            "\n"
          ]
        },
        {
          "output_type": "execute_result",
          "data": {
            "text/plain": [
              "Text(111.12, 0.5, 'Verdadeiro')"
            ]
          },
          "metadata": {},
          "execution_count": 43
        },
        {
          "output_type": "display_data",
          "data": {
            "text/plain": [
              "<Figure size 576x432 with 1 Axes>"
            ],
            "image/png": "[encoded data removed]"
          },
          "metadata": {
            "needs_background": "light"
          }
        }
      ]
    },
    {
      "cell_type": "code",
      "source": [
        "#Verificar sucesso do modelo b3\n",
        "\n",
        "print(\"R² Score: \\t{:.2f}\".format(r2_score(y_test, y_pred_b3)))          #R²\n",
        "print(\"MAE: \\t\\t{:.2f}\".format(mean_absolute_error(y_test, y_pred_b3)))  #MAE\n",
        "print(\"MSE: \\t\\t{:.2f}\\n\".format(mean_squared_error(y_test, y_pred_b3))) #MSE\n",
        "\n",
        "#Classification Report\n",
        "print(f\"Classification Report\\n {classification_report(y_test, y_pred_b3)}\\n\")\n",
        "\n",
        "#Confusion Matrix\n",
        "fig, ax = plt.subplots(figsize=(8, 6))\n",
        "\n",
        "cm = confusion_matrix(y_test, y_pred_b3)\n",
        "cmn = cm.astype('float') / cm.sum(axis=1)[:, np.newaxis] #???\n",
        "\n",
        "sns.heatmap(cmn, annot=True, cbar=False, \n",
        "            square=True, ax=ax);\n",
        "\n",
        "ax.set_title(\"Matriz de Confusão\")\n",
        "ax.set_xlabel(\"Previsto\")\n",
        "ax.set_ylabel(\"Verdadeiro\")"
      ],
      "metadata": {
        "colab": {
          "base_uri": "https://localhost:8080/",
          "height": 690
        },
        "id": "-P7TASnb0PJX",
        "outputId": "8840c8a8-1595-4ed1-b65d-b39549dd53df"
      },
      "execution_count": 44,
      "outputs": [
        {
          "output_type": "stream",
          "name": "stdout",
          "text": [
            "R² Score: \t0.87\n",
            "MAE: \t\t0.03\n",
            "MSE: \t\t0.03\n",
            "\n",
            "Classification Report\n",
            "               precision    recall  f1-score   support\n",
            "\n",
            "           0       0.97      0.97      0.97     70895\n",
            "           1       0.97      0.97      0.97     71263\n",
            "\n",
            "    accuracy                           0.97    142158\n",
            "   macro avg       0.97      0.97      0.97    142158\n",
            "weighted avg       0.97      0.97      0.97    142158\n",
            "\n",
            "\n"
          ]
        },
        {
          "output_type": "execute_result",
          "data": {
            "text/plain": [
              "Text(111.12, 0.5, 'Verdadeiro')"
            ]
          },
          "metadata": {},
          "execution_count": 44
        },
        {
          "output_type": "display_data",
          "data": {
            "text/plain": [
              "<Figure size 576x432 with 1 Axes>"
            ],
            "image/png": "[encoded data removed]"
          },
          "metadata": {
            "needs_background": "light"
          }
        }
      ]
    },
    {
      "cell_type": "code",
      "source": [
        "#Verificar sucesso do modelo b4\n",
        "\n",
        "print(\"R² Score: \\t{:.2f}\".format(r2_score(y_test, y_pred_b4)))          #R²\n",
        "print(\"MAE: \\t\\t{:.2f}\".format(mean_absolute_error(y_test, y_pred_b4)))  #MAE\n",
        "print(\"MSE: \\t\\t{:.2f}\\n\".format(mean_squared_error(y_test, y_pred_b4))) #MSE\n",
        "\n",
        "#Classification Report\n",
        "print(f\"Classification Report\\n {classification_report(y_test, y_pred_b4)}\\n\")\n",
        "\n",
        "#Confusion Matrix\n",
        "fig, ax = plt.subplots(figsize=(8, 6))\n",
        "\n",
        "cm = confusion_matrix(y_test, y_pred_b4)\n",
        "cmn = cm.astype('float') / cm.sum(axis=1)[:, np.newaxis] #???\n",
        "\n",
        "sns.heatmap(cmn, annot=True, cbar=False, \n",
        "            square=True, ax=ax);\n",
        "\n",
        "ax.set_title(\"Matriz de Confusão\")\n",
        "ax.set_xlabel(\"Previsto\")\n",
        "ax.set_ylabel(\"Verdadeiro\")"
      ],
      "metadata": {
        "colab": {
          "base_uri": "https://localhost:8080/",
          "height": 690
        },
        "id": "CjG4ov7G0QOh",
        "outputId": "eb769d8a-107f-4763-d883-e4c9d43541c6"
      },
      "execution_count": 45,
      "outputs": [
        {
          "output_type": "stream",
          "name": "stdout",
          "text": [
            "R² Score: \t0.99\n",
            "MAE: \t\t0.00\n",
            "MSE: \t\t0.00\n",
            "\n",
            "Classification Report\n",
            "               precision    recall  f1-score   support\n",
            "\n",
            "           0       1.00      1.00      1.00     70895\n",
            "           1       1.00      1.00      1.00     71263\n",
            "\n",
            "    accuracy                           1.00    142158\n",
            "   macro avg       1.00      1.00      1.00    142158\n",
            "weighted avg       1.00      1.00      1.00    142158\n",
            "\n",
            "\n"
          ]
        },
        {
          "output_type": "execute_result",
          "data": {
            "text/plain": [
              "Text(111.12, 0.5, 'Verdadeiro')"
            ]
          },
          "metadata": {},
          "execution_count": 45
        },
        {
          "output_type": "display_data",
          "data": {
            "text/plain": [
              "<Figure size 576x432 with 1 Axes>"
            ],
            "image/png": "[encoded data removed]"
          },
          "metadata": {
            "needs_background": "light"
          }
        }
      ]
    },
    {
      "cell_type": "markdown",
      "source": [
        "###Decision Tree - ADASYN (Adaptative Synthetic)\n"
      ],
      "metadata": {
        "id": "jec6-tur4Yv8"
      }
    },
    {
      "cell_type": "code",
      "source": [
        "#B - Hyperparametros\n",
        "ad = ADASYN(random_state=0)\n",
        "\n",
        "#C - Separar dados\n",
        "X_resampled, y_resampled = ad.fit_resample(X, y)"
      ],
      "metadata": {
        "id": "q7ogpQGv0AEZ"
      },
      "execution_count": 46,
      "outputs": []
    },
    {
      "cell_type": "code",
      "source": [
        "#4 - Fit\n",
        "model_b1.fit(X_resampled, y_resampled)\n",
        "model_b2.fit(X_resampled, y_resampled)\n",
        "model_b3.fit(X_resampled, y_resampled)\n",
        "model_b4.fit(X_resampled, y_resampled)\n",
        "\n",
        "#5 - Predict\n",
        "y_pred_b1 = model_b1.predict(X_test)\n",
        "y_pred_b2 = model_b2.predict(X_test)\n",
        "y_pred_b3 = model_b3.predict(X_test)\n",
        "y_pred_b4 = model_b4.predict(X_test)"
      ],
      "metadata": {
        "id": "4KRAsCYf4Yv-"
      },
      "execution_count": 47,
      "outputs": []
    },
    {
      "cell_type": "code",
      "source": [
        "#Verificar o sucesso do modelo b1\n",
        "\n",
        "print(\"R² Score: \\t{:.2f}\".format(r2_score(y_test, y_pred_b1)))          #R²\n",
        "print(\"MAE: \\t\\t{:.2f}\".format(mean_absolute_error(y_test, y_pred_b1)))  #MAE\n",
        "print(\"MSE: \\t\\t{:.2f}\\n\".format(mean_squared_error(y_test, y_pred_b1))) #MSE\n",
        "\n",
        "#Classification Report\n",
        "print(f\"Classification Report\\n {classification_report(y_test, y_pred_b1)}\\n\")\n",
        "\n",
        "#Confusion Matrix\n",
        "fig, ax = plt.subplots(figsize=(8, 6))\n",
        "\n",
        "cm = confusion_matrix(y_test, y_pred_b1)\n",
        "cmn = cm.astype('float') / cm.sum(axis=1)[:, np.newaxis] #???\n",
        "\n",
        "sns.heatmap(cmn, annot=True, cbar=False, \n",
        "            square=True, ax=ax);\n",
        "\n",
        "ax.set_title(\"Matriz de Confusão\")\n",
        "ax.set_xlabel(\"Previsto\")\n",
        "ax.set_ylabel(\"Verdadeiro\")"
      ],
      "metadata": {
        "colab": {
          "base_uri": "https://localhost:8080/",
          "height": 690
        },
        "outputId": "f17e8812-0369-4772-d053-900014b9a5af",
        "id": "EvAR4mKQ4Yv_"
      },
      "execution_count": 48,
      "outputs": [
        {
          "output_type": "stream",
          "name": "stdout",
          "text": [
            "R² Score: \t0.39\n",
            "MAE: \t\t0.15\n",
            "MSE: \t\t0.15\n",
            "\n",
            "Classification Report\n",
            "               precision    recall  f1-score   support\n",
            "\n",
            "           0       0.95      0.73      0.83     70895\n",
            "           1       0.78      0.96      0.86     71263\n",
            "\n",
            "    accuracy                           0.85    142158\n",
            "   macro avg       0.87      0.85      0.84    142158\n",
            "weighted avg       0.87      0.85      0.84    142158\n",
            "\n",
            "\n"
          ]
        },
        {
          "output_type": "execute_result",
          "data": {
            "text/plain": [
              "Text(111.12, 0.5, 'Verdadeiro')"
            ]
          },
          "metadata": {},
          "execution_count": 48
        },
        {
          "output_type": "display_data",
          "data": {
            "text/plain": [
              "<Figure size 576x432 with 1 Axes>"
            ],
            "image/png": "[encoded data removed]"
          },
          "metadata": {
            "needs_background": "light"
          }
        }
      ]
    },
    {
      "cell_type": "code",
      "source": [
        "#Verificar o sucesso do modelo b2\n",
        "\n",
        "print(\"R² Score: \\t{:.2f}\".format(r2_score(y_test, y_pred_b2)))          #R²\n",
        "print(\"MAE: \\t\\t{:.2f}\".format(mean_absolute_error(y_test, y_pred_b2)))  #MAE\n",
        "print(\"MSE: \\t\\t{:.2f}\\n\".format(mean_squared_error(y_test, y_pred_b2))) #MSE\n",
        "#Classification Report\n",
        "print(f\"Classification Report\\n {classification_report(y_test, y_pred_b2)}\\n\")\n",
        "\n",
        "#Confusion Matrix\n",
        "fig, ax = plt.subplots(figsize=(8, 6))\n",
        "\n",
        "cm = confusion_matrix(y_test, y_pred_b2)\n",
        "cmn = cm.astype('float') / cm.sum(axis=1)[:, np.newaxis] #???\n",
        "\n",
        "sns.heatmap(cmn, annot=True, cbar=False, \n",
        "            square=True, ax=ax);\n",
        "\n",
        "ax.set_title(\"Matriz de Confusão\")\n",
        "ax.set_xlabel(\"Previsto\")\n",
        "ax.set_ylabel(\"Verdadeiro\")"
      ],
      "metadata": {
        "colab": {
          "base_uri": "https://localhost:8080/",
          "height": 690
        },
        "outputId": "1313f6b9-d675-40c2-e266-30848e7f0545",
        "id": "3p-dm2mP4YwA"
      },
      "execution_count": 49,
      "outputs": [
        {
          "output_type": "stream",
          "name": "stdout",
          "text": [
            "R² Score: \t0.64\n",
            "MAE: \t\t0.09\n",
            "MSE: \t\t0.09\n",
            "\n",
            "Classification Report\n",
            "               precision    recall  f1-score   support\n",
            "\n",
            "           0       0.95      0.86      0.90     70895\n",
            "           1       0.87      0.96      0.91     71263\n",
            "\n",
            "    accuracy                           0.91    142158\n",
            "   macro avg       0.91      0.91      0.91    142158\n",
            "weighted avg       0.91      0.91      0.91    142158\n",
            "\n",
            "\n"
          ]
        },
        {
          "output_type": "execute_result",
          "data": {
            "text/plain": [
              "Text(111.12, 0.5, 'Verdadeiro')"
            ]
          },
          "metadata": {},
          "execution_count": 49
        },
        {
          "output_type": "display_data",
          "data": {
            "text/plain": [
              "<Figure size 576x432 with 1 Axes>"
            ],
            "image/png": "[encoded data removed]"
          },
          "metadata": {
            "needs_background": "light"
          }
        }
      ]
    },
    {
      "cell_type": "code",
      "source": [
        "#Verificar o sucesso do modelo b3\n",
        "\n",
        "print(\"R² Score: \\t{:.2f}\".format(r2_score(y_test, y_pred_b3)))          #R²\n",
        "print(\"MAE: \\t\\t{:.2f}\".format(mean_absolute_error(y_test, y_pred_b3)))  #MAE\n",
        "print(\"MSE: \\t\\t{:.2f}\\n\".format(mean_squared_error(y_test, y_pred_b3))) #MSE\n",
        "\n",
        "#Classification Report\n",
        "print(f\"Classification Report\\n {classification_report(y_test, y_pred_b3)}\\n\")\n",
        "\n",
        "#Confusion Matrix\n",
        "fig, ax = plt.subplots(figsize=(8, 6))\n",
        "\n",
        "cm = confusion_matrix(y_test, y_pred_b3)\n",
        "cmn = cm.astype('float') / cm.sum(axis=1)[:, np.newaxis] #???\n",
        "\n",
        "sns.heatmap(cmn, annot=True, cbar=False, \n",
        "            square=True, ax=ax);\n",
        "\n",
        "ax.set_title(\"Matriz de Confusão\")\n",
        "ax.set_xlabel(\"Previsto\")\n",
        "ax.set_ylabel(\"Verdadeiro\")"
      ],
      "metadata": {
        "colab": {
          "base_uri": "https://localhost:8080/",
          "height": 690
        },
        "outputId": "dc0366f7-b5ba-44bb-c2a2-9a0799cdad45",
        "id": "vUwnPRPO4YwC"
      },
      "execution_count": 50,
      "outputs": [
        {
          "output_type": "stream",
          "name": "stdout",
          "text": [
            "R² Score: \t0.82\n",
            "MAE: \t\t0.04\n",
            "MSE: \t\t0.04\n",
            "\n",
            "Classification Report\n",
            "               precision    recall  f1-score   support\n",
            "\n",
            "           0       0.98      0.93      0.95     70895\n",
            "           1       0.94      0.98      0.96     71263\n",
            "\n",
            "    accuracy                           0.96    142158\n",
            "   macro avg       0.96      0.96      0.96    142158\n",
            "weighted avg       0.96      0.96      0.96    142158\n",
            "\n",
            "\n"
          ]
        },
        {
          "output_type": "execute_result",
          "data": {
            "text/plain": [
              "Text(111.12, 0.5, 'Verdadeiro')"
            ]
          },
          "metadata": {},
          "execution_count": 50
        },
        {
          "output_type": "display_data",
          "data": {
            "text/plain": [
              "<Figure size 576x432 with 1 Axes>"
            ],
            "image/png": "[encoded data removed]"
          },
          "metadata": {
            "needs_background": "light"
          }
        }
      ]
    },
    {
      "cell_type": "code",
      "source": [
        "#Verificar o sucesso do modelo b4\n",
        "\n",
        "print(\"R² Score: \\t{:.2f}\".format(r2_score(y_test, y_pred_b4)))          #R²\n",
        "print(\"MAE: \\t\\t{:.2f}\".format(mean_absolute_error(y_test, y_pred_b4)))  #MAE\n",
        "print(\"MSE: \\t\\t{:.2f}\\n\".format(mean_squared_error(y_test, y_pred_b4))) #MSE\n",
        "\n",
        "#Classification Report\n",
        "print(f\"Classification Report\\n {classification_report(y_test, y_pred_b4)}\\n\")\n",
        "\n",
        "#Confusion Matrix\n",
        "fig, ax = plt.subplots(figsize=(8, 6))\n",
        "\n",
        "cm = confusion_matrix(y_test, y_pred_b4)\n",
        "cmn = cm.astype('float') / cm.sum(axis=1)[:, np.newaxis] #???\n",
        "\n",
        "sns.heatmap(cmn, annot=True, cbar=False, \n",
        "            square=True, ax=ax);\n",
        "\n",
        "ax.set_title(\"Matriz de Confusão\")\n",
        "ax.set_xlabel(\"Previsto\")\n",
        "ax.set_ylabel(\"Verdadeiro\")"
      ],
      "metadata": {
        "colab": {
          "base_uri": "https://localhost:8080/",
          "height": 690
        },
        "outputId": "7f0daeb5-4189-4b49-e2b1-12f14014b1e2",
        "id": "AfXhydSn4YwD"
      },
      "execution_count": 51,
      "outputs": [
        {
          "output_type": "stream",
          "name": "stdout",
          "text": [
            "R² Score: \t0.99\n",
            "MAE: \t\t0.00\n",
            "MSE: \t\t0.00\n",
            "\n",
            "Classification Report\n",
            "               precision    recall  f1-score   support\n",
            "\n",
            "           0       1.00      0.99      1.00     70895\n",
            "           1       0.99      1.00      1.00     71263\n",
            "\n",
            "    accuracy                           1.00    142158\n",
            "   macro avg       1.00      1.00      1.00    142158\n",
            "weighted avg       1.00      1.00      1.00    142158\n",
            "\n",
            "\n"
          ]
        },
        {
          "output_type": "execute_result",
          "data": {
            "text/plain": [
              "Text(111.12, 0.5, 'Verdadeiro')"
            ]
          },
          "metadata": {},
          "execution_count": 51
        },
        {
          "output_type": "display_data",
          "data": {
            "text/plain": [
              "<Figure size 576x432 with 1 Axes>"
            ],
            "image/png": "[encoded data removed]"
          },
          "metadata": {
            "needs_background": "light"
          }
        }
      ]
    },
    {
      "cell_type": "markdown",
      "source": [
        "Em relação a utilização das técnicas de SMOTE e ADASYN, os resultados foram bastante similares as resultados que utilizaram Random Sampling.\n",
        "\n",
        "* O comportamento dos indicadores de qualidade (R², MAE, MSE) se comportaram de maneira praticamente igual.\n",
        "* Novamente, o melhor modelo tanto em SMOTE quanto ADASYN foi o b3 (8 ramos). Entretanto, nestes modelos, os resultados de Falso Negativo sofreram uma leve piora. O modelo em Random Sampling apresentou FN de 0.0083. Em SMOTE este valor foi de 0.033 e em ADASYN este foi de 0.022.\n",
        "* Todos os modelos com 16 ramos apresentaram evidência de overfit, e não é possível descartar a possibilidade de que os modelos b3 sofram um pouco deste problema também."
      ],
      "metadata": {
        "id": "slYZFFlk0LEq"
      }
    },
    {
      "cell_type": "markdown",
      "source": [
        "## 5) Conclusão\n",
        "\n",
        "Através da aplicação de métodos de Machine Learning supervisionados, foi possível criar um modelo preditivo com alta capacidade de identificação de fraudes de cartão de crédito. O melhor modelo obtido apresentou altos indicadores de qualidade na identificação e segmentação dos casos de fraude e casos de não fraude.\n",
        "\n",
        "Ao todo 2 métodos de aprendizado por classificação foram utilizados: Regressão Logística e Árvore de Decisão. Neste projeto, o segundo método apresentou melhores resultados, apesar da diferença ser bem leve entre ambos os métodos. Vale reforçar que não existe superioridade geral entre metodologias, assim caso o problema a ser resulvido fosse diferente possivelmente a Regressão Logística seria um método com resultados mais ótimos. \n",
        "\n",
        "Vale reforçar também a utilização de 3 técnicas diferentes de balanceamento de dados devido a pouca quantidade de casos de fraude comparados aos de não fraude. Cada técnica utiliza lógicas matemáticas diferentes para gerar novos valores e, novamente, não existe uma solução mais ideal. No presente projeto todos os resultados foram bem próximos uns dos outros. Deve-se destacar que a técnica de Undersampling não foi aplicada neste projeto. Esta foi uma escolha pessoal, pois a perda de informação com a redução de dados seria bem extrema, possivelmente reduzindo o poder explicativo do modelo. \n",
        "\n",
        "Destaca-se também que um dos principais critérios de desempate utilizados neste projeto foi a proporção de Falsos Negativos. No problema em mãos de fraude de cartão, deixar de identificar um caso como fraude é muito pior do que erroneamento identificar um caso como fraude, pois a diferença sobre o impacto financeiro é muito maior. O problema de negócios deve ser o centro de qualquer solução de Machine Learning, portanto, seja qual for o projeto construído, ele deve ter no escopo os ganhos e perdas que geram para o negócio.\n",
        "\n"
      ],
      "metadata": {
        "id": "2QLo98EdAe57"
      }
    }
  ]
}